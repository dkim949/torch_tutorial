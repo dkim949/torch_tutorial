{
 "cells": [
  {
   "cell_type": "code",
   "execution_count": 12,
   "id": "f145b2a6-f73c-473c-a085-8b4858b47d2c",
   "metadata": {},
   "outputs": [],
   "source": [
    "import os\n",
    "import math\n",
    "import torch\n",
    "from torch import nn\n",
    "from torch.utils.data import DataLoader\n",
    "from torchvision import datasets\n",
    "from torchvision.transforms import ToTensor"
   ]
  },
  {
   "cell_type": "code",
   "execution_count": 2,
   "id": "0a72ea71-a184-4e01-ba37-239022f4e54d",
   "metadata": {},
   "outputs": [
    {
     "name": "stdout",
     "output_type": "stream",
     "text": [
      "Using cuda device\n"
     ]
    }
   ],
   "source": [
    "device = (\n",
    "    \"cuda\"\n",
    "    if torch.cuda.is_available()\n",
    "    else \"mps\"\n",
    "    if torch.backends.mps.is_available()\n",
    "    else \"cpu\"\n",
    ")\n",
    "print(f\"Using {device} device\")"
   ]
  },
  {
   "cell_type": "code",
   "execution_count": 9,
   "id": "c9d1e697-2630-45d2-a6d4-890f522aa8e8",
   "metadata": {},
   "outputs": [
    {
     "data": {
      "text/plain": [
       "'NVIDIA GeForce RTX 4070 Ti'"
      ]
     },
     "execution_count": 9,
     "metadata": {},
     "output_type": "execute_result"
    }
   ],
   "source": [
    "# torch.cuda.device_count()\n",
    "torch.cuda.get_device_name(0)"
   ]
  },
  {
   "cell_type": "code",
   "execution_count": 5,
   "id": "08f2ff44-30ee-4464-bc53-6d76b497de75",
   "metadata": {},
   "outputs": [
    {
     "data": {
      "text/plain": [
       "False"
      ]
     },
     "execution_count": 5,
     "metadata": {},
     "output_type": "execute_result"
    }
   ],
   "source": [
    "X_train = torch.FloatTensor([0., 1., 2.])\n",
    "X_train.is_cuda\n"
   ]
  },
  {
   "cell_type": "code",
   "execution_count": 6,
   "id": "203c37be-767d-4b6d-8941-ae2d31a83cd4",
   "metadata": {},
   "outputs": [
    {
     "data": {
      "text/plain": [
       "True"
      ]
     },
     "execution_count": 6,
     "metadata": {},
     "output_type": "execute_result"
    }
   ],
   "source": [
    "X_train = X_train.to(device)\n",
    "X_train.is_cuda\n"
   ]
  },
  {
   "cell_type": "code",
   "execution_count": 13,
   "id": "6357e181-43bb-4650-b22a-26be1c0cc893",
   "metadata": {},
   "outputs": [],
   "source": [
    "# device = torch.device(\"cpu\")\n",
    "device = torch.device(\"cuda:0\") # Uncomment this to run on GPU\n",
    "\n",
    "dtype = torch.float"
   ]
  },
  {
   "cell_type": "code",
   "execution_count": 14,
   "id": "9b5c7a43-1e71-4d3d-876e-ed9c47b6d3e2",
   "metadata": {},
   "outputs": [],
   "source": [
    "x = torch.linspace(-math.pi, math.pi, 2000, device=device, dtype=dtype)\n",
    "y = torch.sin(x)"
   ]
  },
  {
   "cell_type": "code",
   "execution_count": 17,
   "id": "a14b057b-3d11-4552-bdd2-81f7d7031b72",
   "metadata": {},
   "outputs": [],
   "source": [
    "a = torch.randn((), device=device, dtype=dtype)\n",
    "b = torch.randn((), device=device, dtype=dtype)\n",
    "c = torch.randn((), device=device, dtype=dtype)\n",
    "d = torch.randn((), device=device, dtype=dtype)"
   ]
  },
  {
   "cell_type": "code",
   "execution_count": 18,
   "id": "68bf001e-d6f0-4ba8-b4d8-e41935158841",
   "metadata": {},
   "outputs": [],
   "source": [
    "y_pred = a + b * x + c * x **2 + d * x ** 3"
   ]
  },
  {
   "cell_type": "code",
   "execution_count": 24,
   "id": "8156278b-b19b-4072-8210-323c5bf13125",
   "metadata": {},
   "outputs": [
    {
     "data": {
      "text/plain": [
       "tensor([-2.3295, -2.3123, -2.2952,  ..., 23.2061, 23.2713, 23.3365],\n",
       "       device='cuda:0')"
      ]
     },
     "execution_count": 24,
     "metadata": {},
     "output_type": "execute_result"
    }
   ],
   "source": [
    "y_pred"
   ]
  },
  {
   "cell_type": "code",
   "execution_count": 25,
   "id": "33a0a9d9-cd2f-4c1e-8699-12615323c06c",
   "metadata": {},
   "outputs": [
    {
     "data": {
      "text/plain": [
       "tensor(77300.2969, device='cuda:0')"
      ]
     },
     "execution_count": 25,
     "metadata": {},
     "output_type": "execute_result"
    }
   ],
   "source": [
    "(y_pred - y).pow(2).sum()\n"
   ]
  },
  {
   "cell_type": "code",
   "execution_count": 27,
   "id": "6302fbd8-a597-4cab-ab32-fc5b01b94104",
   "metadata": {},
   "outputs": [
    {
     "name": "stdout",
     "output_type": "stream",
     "text": [
      "99 3039.31982421875\n",
      "199 2094.4619140625\n",
      "299 1445.78466796875\n",
      "399 999.9383544921875\n",
      "499 693.1578979492188\n",
      "599 481.8324890136719\n",
      "699 336.1019287109375\n",
      "799 235.49742126464844\n",
      "899 165.9723358154297\n",
      "999 117.87565612792969\n",
      "1099 84.56925964355469\n",
      "1199 61.482017517089844\n",
      "1299 45.46310806274414\n",
      "1399 34.338165283203125\n",
      "1499 26.60502815246582\n",
      "1599 21.224842071533203\n",
      "1699 17.478525161743164\n",
      "1799 14.867705345153809\n",
      "1899 13.046825408935547\n",
      "1999 11.775888442993164\n",
      "Result: y = -0.05258806794881821 + 0.8352139592170715 x + 0.009072314947843552 x^2 + -0.09026837348937988 x^3\n"
     ]
    }
   ],
   "source": [
    "# to fit a third order polynomial to sine function\n",
    "\n",
    "learning_rate = 1e-6\n",
    "\n",
    "for t in range(2000):\n",
    "\n",
    "    # forward pass\n",
    "    y_pred = a + b * x + c * x **2 + d * x ** 3\n",
    "\n",
    "    # compute and print loss\n",
    "    loss = (y_pred - y).pow(2).sum().item()\n",
    "\n",
    "    if t % 100 == 99:\n",
    "        print(t, loss)\n",
    "\n",
    "    # backprop to compute gradients of a, b, c, d wrt loss\n",
    "    grad_y_pred = 2.0 * (y_pred - y)\n",
    "    grad_a = grad_y_pred.sum()\n",
    "    grad_b = (grad_y_pred * x).sum()\n",
    "    grad_c = (grad_y_pred * x **2).sum()\n",
    "    grad_d = (grad_y_pred * x **3).sum()\n",
    "\n",
    "    # Update weights using gradient descent\n",
    "    a -= learning_rate * grad_a\n",
    "    b -= learning_rate * grad_b\n",
    "    c -= learning_rate * grad_c\n",
    "    d -= learning_rate * grad_d\n",
    "\n",
    "\n",
    "print(f'Result: y = {a.item()} + {b.item()} x + {c.item()} x^2 + {d.item()} x^3')"
   ]
  },
  {
   "cell_type": "code",
   "execution_count": null,
   "id": "fe3b8904-9eb2-4bb3-820d-d18c2c7b86ae",
   "metadata": {},
   "outputs": [],
   "source": []
  }
 ],
 "metadata": {
  "kernelspec": {
   "display_name": "Python 3 (ipykernel)",
   "language": "python",
   "name": "python3"
  },
  "language_info": {
   "codemirror_mode": {
    "name": "ipython",
    "version": 3
   },
   "file_extension": ".py",
   "mimetype": "text/x-python",
   "name": "python",
   "nbconvert_exporter": "python",
   "pygments_lexer": "ipython3",
   "version": "3.8.18"
  }
 },
 "nbformat": 4,
 "nbformat_minor": 5
}
