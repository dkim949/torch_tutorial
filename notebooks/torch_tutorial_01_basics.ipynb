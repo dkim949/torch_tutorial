{
 "cells": [
  {
   "cell_type": "markdown",
   "id": "95b62a22",
   "metadata": {},
   "source": [
    "# Sources:\n",
    "- https://pytorch.org/tutorials/beginner/basics/intro.html"
   ]
  },
  {
   "cell_type": "code",
   "execution_count": 4,
   "id": "initial_id",
   "metadata": {
    "ExecuteTime": {
     "end_time": "2023-11-11T09:26:47.665673Z",
     "start_time": "2023-11-11T09:26:47.661064Z"
    },
    "scrolled": true
   },
   "outputs": [],
   "source": [
    "import numpy as np\n",
    "import pandas as pd\n",
    "import matplotlib.pyplot as plt \n",
    "import seaborn as sns\n",
    "import torch\n",
    "import torch.nn as nn\n",
    "import torch.nn.functional as F\n",
    "import torchvision\n",
    "import torchvision.transforms as transforms"
   ]
  },
  {
   "cell_type": "code",
   "execution_count": 14,
   "id": "1b4eda752a2e9c15",
   "metadata": {
    "ExecuteTime": {
     "end_time": "2023-10-14T09:15:24.220080Z",
     "start_time": "2023-10-14T09:15:24.214219Z"
    }
   },
   "outputs": [],
   "source": [
    "# !pip install torchvision seaborn"
   ]
  },
  {
   "cell_type": "markdown",
   "id": "51dd58b51c29e89",
   "metadata": {},
   "source": [
    "# Tensors"
   ]
  },
  {
   "cell_type": "code",
   "execution_count": 5,
   "id": "dc00cb2656f082dc",
   "metadata": {
    "ExecuteTime": {
     "end_time": "2023-11-11T09:26:50.811559Z",
     "start_time": "2023-11-11T09:26:50.806463Z"
    }
   },
   "outputs": [],
   "source": [
    "data = [[1,2],\n",
    "        [3,4]]"
   ]
  },
  {
   "cell_type": "code",
   "execution_count": 8,
   "id": "0eeac52a",
   "metadata": {
    "ExecuteTime": {
     "end_time": "2023-11-11T09:26:58.027025Z",
     "start_time": "2023-11-11T09:26:58.019651Z"
    }
   },
   "outputs": [
    {
     "data": {
      "text/plain": [
       "[[1, 2], [3, 4]]"
      ]
     },
     "execution_count": 8,
     "metadata": {},
     "output_type": "execute_result"
    }
   ],
   "source": [
    "data"
   ]
  },
  {
   "cell_type": "code",
   "execution_count": 6,
   "id": "f6dcd7fa0f68bda8",
   "metadata": {
    "ExecuteTime": {
     "end_time": "2023-11-11T09:26:52.943794Z",
     "start_time": "2023-11-11T09:26:52.932932Z"
    }
   },
   "outputs": [],
   "source": [
    "# directly from data \n",
    "x_data = torch.tensor(data)"
   ]
  },
  {
   "cell_type": "code",
   "execution_count": 7,
   "id": "c625d109",
   "metadata": {
    "ExecuteTime": {
     "end_time": "2023-11-11T09:26:54.879673Z",
     "start_time": "2023-11-11T09:26:54.860311Z"
    }
   },
   "outputs": [
    {
     "data": {
      "text/plain": [
       "tensor([[1, 2],\n",
       "        [3, 4]])"
      ]
     },
     "execution_count": 7,
     "metadata": {},
     "output_type": "execute_result"
    }
   ],
   "source": [
    "x_data"
   ]
  },
  {
   "cell_type": "code",
   "execution_count": 10,
   "id": "6054f1069b96b292",
   "metadata": {
    "ExecuteTime": {
     "end_time": "2023-11-11T09:27:09.113317Z",
     "start_time": "2023-11-11T09:27:09.107727Z"
    }
   },
   "outputs": [],
   "source": [
    "# from a numpy array \n",
    "np_array = np.array(data)\n",
    "x_np = torch.from_numpy(np_array)"
   ]
  },
  {
   "cell_type": "code",
   "execution_count": 11,
   "id": "6b34c2c1",
   "metadata": {
    "ExecuteTime": {
     "end_time": "2023-11-11T09:27:09.312955Z",
     "start_time": "2023-11-11T09:27:09.305298Z"
    }
   },
   "outputs": [
    {
     "data": {
      "text/plain": [
       "tensor([[1, 2],\n",
       "        [3, 4]])"
      ]
     },
     "execution_count": 11,
     "metadata": {},
     "output_type": "execute_result"
    }
   ],
   "source": [
    "x_np"
   ]
  },
  {
   "cell_type": "code",
   "execution_count": 12,
   "id": "e7bf8ea8c96b044f",
   "metadata": {
    "ExecuteTime": {
     "end_time": "2023-11-11T09:33:05.562155Z",
     "start_time": "2023-11-11T09:33:05.548987Z"
    }
   },
   "outputs": [
    {
     "name": "stdout",
     "output_type": "stream",
     "text": [
      "Ones Tensor: \n",
      " tensor([[1, 1],\n",
      "        [1, 1]]) \n",
      "\n"
     ]
    }
   ],
   "source": [
    "# The new tensor retains the properties (shape, datatype) of the argument tensor\n",
    "x_ones = torch.ones_like(x_data)\n",
    "print(f\"Ones Tensor: \\n {x_ones} \\n\")"
   ]
  },
  {
   "cell_type": "code",
   "execution_count": 13,
   "id": "1f34fb1bed291ad4",
   "metadata": {
    "ExecuteTime": {
     "end_time": "2023-11-11T09:33:08.388001Z",
     "start_time": "2023-11-11T09:33:08.361283Z"
    }
   },
   "outputs": [
    {
     "name": "stdout",
     "output_type": "stream",
     "text": [
      "Random Tensor: \n",
      " tensor([[0.8486, 0.9327],\n",
      "        [0.1026, 0.4989]]) \n",
      "\n"
     ]
    }
   ],
   "source": [
    "x_rand = torch.rand_like(x_data, dtype=torch.float) # overrides the datatype of x_data\n",
    "print(f\"Random Tensor: \\n {x_rand} \\n\")"
   ]
  },
  {
   "cell_type": "code",
   "execution_count": 14,
   "id": "4ed1b721ba70c748",
   "metadata": {
    "ExecuteTime": {
     "end_time": "2023-11-11T09:33:15.539859Z",
     "start_time": "2023-11-11T09:33:15.528627Z"
    }
   },
   "outputs": [
    {
     "name": "stdout",
     "output_type": "stream",
     "text": [
      "Random Tensor: \n",
      " tensor([[0.4379, 0.9097, 0.0416],\n",
      "        [0.5498, 0.1731, 0.0603]]) \n",
      "\n",
      "Ones Tensor: \n",
      " tensor([[1., 1., 1.],\n",
      "        [1., 1., 1.]]) \n",
      "\n",
      "Zeros Tensor: \n",
      " tensor([[0., 0., 0.],\n",
      "        [0., 0., 0.]])\n"
     ]
    }
   ],
   "source": [
    "shape = (2,3,)\n",
    "rand_tensor = torch.rand(shape)\n",
    "ones_tensor = torch.ones(shape)\n",
    "zeros_tensor = torch.zeros(shape)\n",
    "# torch.rand(3,4,4,4)\n",
    "print(f\"Random Tensor: \\n {rand_tensor} \\n\")\n",
    "print(f\"Ones Tensor: \\n {ones_tensor} \\n\")\n",
    "print(f\"Zeros Tensor: \\n {zeros_tensor}\")"
   ]
  },
  {
   "cell_type": "code",
   "execution_count": 15,
   "id": "25d3500645952b3a",
   "metadata": {
    "ExecuteTime": {
     "end_time": "2023-11-11T09:33:17.428540Z",
     "start_time": "2023-11-11T09:33:17.424658Z"
    }
   },
   "outputs": [],
   "source": [
    "# We move our tensor to the GPU if available\n",
    "if torch.cuda.is_available():\n",
    "    tensor = tensor.to(\"cuda\")"
   ]
  },
  {
   "cell_type": "code",
   "execution_count": 16,
   "id": "a2926990bffb7b66",
   "metadata": {
    "ExecuteTime": {
     "end_time": "2023-11-11T09:34:00.167883Z",
     "start_time": "2023-11-11T09:34:00.155805Z"
    }
   },
   "outputs": [
    {
     "name": "stdout",
     "output_type": "stream",
     "text": [
      "First row: tensor([1., 1., 1., 1.])\n",
      "First column: tensor([1., 1., 1., 1.])\n",
      "Last column: tensor([1., 1., 1., 1.])\n",
      "tensor([[1., 0., 1., 1.],\n",
      "        [1., 0., 1., 1.],\n",
      "        [1., 0., 1., 1.],\n",
      "        [1., 0., 1., 1.]])\n"
     ]
    }
   ],
   "source": [
    "# Standard numpy-like indexing and slicing:\n",
    "tensor = torch.ones(4,4)\n",
    "print(f\"First row: {tensor[0]}\")\n",
    "print(f\"First column: {tensor[:, 0]}\")\n",
    "print(f\"Last column: {tensor[..., -1]}\")\n",
    "tensor[:,1] = 0\n",
    "print(tensor)"
   ]
  },
  {
   "cell_type": "code",
   "execution_count": 17,
   "id": "9ac50527",
   "metadata": {
    "ExecuteTime": {
     "end_time": "2023-11-11T09:34:06.808427Z",
     "start_time": "2023-11-11T09:34:06.798325Z"
    }
   },
   "outputs": [
    {
     "data": {
      "text/plain": [
       "tensor([1., 0., 1., 1.])"
      ]
     },
     "execution_count": 17,
     "metadata": {},
     "output_type": "execute_result"
    }
   ],
   "source": [
    "tensor[0]"
   ]
  },
  {
   "cell_type": "code",
   "execution_count": 53,
   "id": "4d2754869dcf2846",
   "metadata": {
    "ExecuteTime": {
     "end_time": "2023-10-14T09:38:28.784227Z",
     "start_time": "2023-10-14T09:38:28.776539Z"
    }
   },
   "outputs": [
    {
     "data": {
      "text/plain": [
       "2"
      ]
     },
     "execution_count": 53,
     "metadata": {},
     "output_type": "execute_result"
    }
   ],
   "source": [
    "tensor.ndim"
   ]
  },
  {
   "cell_type": "code",
   "execution_count": 57,
   "id": "2af8bc1230254228",
   "metadata": {
    "ExecuteTime": {
     "end_time": "2023-10-14T09:40:10.359070Z",
     "start_time": "2023-10-14T09:40:10.350287Z"
    }
   },
   "outputs": [
    {
     "data": {
      "text/plain": [
       "tensor([[1., 0., 1., 1., 1., 0., 1., 1.],\n",
       "        [1., 0., 1., 1., 1., 0., 1., 1.],\n",
       "        [1., 0., 1., 1., 1., 0., 1., 1.],\n",
       "        [1., 0., 1., 1., 1., 0., 1., 1.]])"
      ]
     },
     "execution_count": 57,
     "metadata": {},
     "output_type": "execute_result"
    }
   ],
   "source": [
    "# Joining tensors You can use torch.cat to concatenate a sequence of tensors along a given dimension. \n",
    "# See also torch.stack\n",
    "\n",
    "torch.cat([tensor,tensor], dim=1)  #default dim=0 "
   ]
  },
  {
   "cell_type": "code",
   "execution_count": 20,
   "id": "d669c2a0",
   "metadata": {
    "ExecuteTime": {
     "end_time": "2023-11-11T09:35:04.424319Z",
     "start_time": "2023-11-11T09:35:04.416846Z"
    }
   },
   "outputs": [
    {
     "data": {
      "text/plain": [
       "tensor([[1., 0., 1., 1.],\n",
       "        [1., 0., 1., 1.],\n",
       "        [1., 0., 1., 1.],\n",
       "        [1., 0., 1., 1.]])"
      ]
     },
     "execution_count": 20,
     "metadata": {},
     "output_type": "execute_result"
    }
   ],
   "source": [
    "tensor"
   ]
  },
  {
   "cell_type": "code",
   "execution_count": 22,
   "id": "a330bb7c",
   "metadata": {
    "ExecuteTime": {
     "end_time": "2023-11-11T09:35:15.537295Z",
     "start_time": "2023-11-11T09:35:15.530914Z"
    }
   },
   "outputs": [
    {
     "data": {
      "text/plain": [
       "2"
      ]
     },
     "execution_count": 22,
     "metadata": {},
     "output_type": "execute_result"
    }
   ],
   "source": [
    "torch.cat([tensor,tensor]).ndim"
   ]
  },
  {
   "cell_type": "code",
   "execution_count": 21,
   "id": "9cd315e5",
   "metadata": {
    "ExecuteTime": {
     "end_time": "2023-11-11T09:35:10.646088Z",
     "start_time": "2023-11-11T09:35:10.641751Z"
    }
   },
   "outputs": [
    {
     "data": {
      "text/plain": [
       "3"
      ]
     },
     "execution_count": 21,
     "metadata": {},
     "output_type": "execute_result"
    }
   ],
   "source": [
    "torch.stack([tensor,tensor]).ndim"
   ]
  },
  {
   "cell_type": "markdown",
   "id": "308d1360",
   "metadata": {},
   "source": [
    "# Arithmetic operations"
   ]
  },
  {
   "cell_type": "code",
   "execution_count": 58,
   "id": "3406a286355916fb",
   "metadata": {
    "ExecuteTime": {
     "end_time": "2023-10-14T09:41:35.515073Z",
     "start_time": "2023-10-14T09:41:35.505918Z"
    }
   },
   "outputs": [
    {
     "data": {
      "text/plain": [
       "tensor([[1., 0., 1., 1.],\n",
       "        [1., 0., 1., 1.],\n",
       "        [1., 0., 1., 1.],\n",
       "        [1., 0., 1., 1.]])"
      ]
     },
     "execution_count": 58,
     "metadata": {},
     "output_type": "execute_result"
    }
   ],
   "source": [
    "\n",
    "# This computes the matrix multiplication between two tensors. y1, y2, y3 will have the same value\n",
    "# ``tensor.T`` returns the transpose of a tensor\n",
    "y1 = tensor @ tensor.T  \n",
    "y2 = tensor.matmul(tensor.T)\n",
    "\n",
    "y3 = torch.rand_like(y1)\n",
    "torch.matmul(tensor, tensor.T, out=y3)\n",
    "\n",
    "\n",
    "# This computes the element-wise product. z1, z2, z3 will have the same value\n",
    "z1 = tensor * tensor\n",
    "z2 = tensor.mul(tensor)\n",
    "\n",
    "z3 = torch.rand_like(tensor)\n",
    "torch.mul(tensor, tensor, out=z3)"
   ]
  },
  {
   "cell_type": "code",
   "execution_count": 63,
   "id": "e9414794a5b4d33d",
   "metadata": {
    "ExecuteTime": {
     "end_time": "2023-10-14T09:42:32.294535Z",
     "start_time": "2023-10-14T09:42:32.287402Z"
    }
   },
   "outputs": [
    {
     "name": "stdout",
     "output_type": "stream",
     "text": [
      "12.0 <class 'float'>\n"
     ]
    }
   ],
   "source": [
    "# Single-element tensors If you have a one-element tensor, for example by aggregating all values of a tensor into one value, you can convert it to a Python numerical value using item():\n",
    "\n",
    "agg = tensor.sum()\n",
    "agg_item = agg.item()\n",
    "print(agg_item, type(agg_item))"
   ]
  },
  {
   "cell_type": "code",
   "execution_count": 64,
   "id": "48b133e2f0bb11cc",
   "metadata": {
    "ExecuteTime": {
     "end_time": "2023-10-14T09:43:24.435515Z",
     "start_time": "2023-10-14T09:43:24.416341Z"
    }
   },
   "outputs": [
    {
     "name": "stdout",
     "output_type": "stream",
     "text": [
      "tensor([[1., 0., 1., 1.],\n",
      "        [1., 0., 1., 1.],\n",
      "        [1., 0., 1., 1.],\n",
      "        [1., 0., 1., 1.]]) \n",
      "\n",
      "tensor([[6., 5., 6., 6.],\n",
      "        [6., 5., 6., 6.],\n",
      "        [6., 5., 6., 6.],\n",
      "        [6., 5., 6., 6.]])\n"
     ]
    }
   ],
   "source": [
    "# In-place operations Operations that store the result into the operand are called in-place.\n",
    "print(f\"{tensor} \\n\")\n",
    "tensor.add_(5)\n",
    "print(tensor)"
   ]
  },
  {
   "cell_type": "code",
   "execution_count": 65,
   "id": "6028198cea503230",
   "metadata": {
    "ExecuteTime": {
     "end_time": "2023-10-14T09:48:28.085892Z",
     "start_time": "2023-10-14T09:48:28.067590Z"
    }
   },
   "outputs": [
    {
     "name": "stdout",
     "output_type": "stream",
     "text": [
      "t: tensor([1., 1., 1., 1., 1.])\n",
      "n: [1. 1. 1. 1. 1.]\n"
     ]
    }
   ],
   "source": [
    "# Tensor to NumPy array\n",
    "t = torch.ones(5)\n",
    "print(f\"t: {t}\")\n",
    "n = t.numpy()\n",
    "# np.array(t)\n",
    "print(f\"n: {n}\")"
   ]
  },
  {
   "cell_type": "code",
   "execution_count": 70,
   "id": "e97b5cec4dffca9d",
   "metadata": {
    "ExecuteTime": {
     "end_time": "2023-10-14T10:49:11.873881Z",
     "start_time": "2023-10-14T10:49:11.866518Z"
    }
   },
   "outputs": [
    {
     "data": {
      "text/plain": [
       "tensor([2., 2., 2., 2., 2.], dtype=torch.float64)"
      ]
     },
     "execution_count": 70,
     "metadata": {},
     "output_type": "execute_result"
    }
   ],
   "source": [
    "t.add_(1)"
   ]
  },
  {
   "cell_type": "code",
   "execution_count": 69,
   "id": "f16bc950755320e8",
   "metadata": {
    "ExecuteTime": {
     "end_time": "2023-10-14T10:48:57.753248Z",
     "start_time": "2023-10-14T10:48:57.745152Z"
    }
   },
   "outputs": [],
   "source": [
    "n = np.ones(5)\n",
    "t = torch.from_numpy(n)"
   ]
  },
  {
   "cell_type": "code",
   "execution_count": 73,
   "id": "86b1cabe8551cf0d",
   "metadata": {
    "ExecuteTime": {
     "end_time": "2023-10-14T10:49:29.204438Z",
     "start_time": "2023-10-14T10:49:29.201149Z"
    }
   },
   "outputs": [
    {
     "data": {
      "text/plain": [
       "array([4., 4., 4., 4., 4.])"
      ]
     },
     "execution_count": 73,
     "metadata": {},
     "output_type": "execute_result"
    }
   ],
   "source": [
    "np.add(n, 1, out=n)"
   ]
  },
  {
   "cell_type": "markdown",
   "id": "ff21fd00f6a09d75",
   "metadata": {},
   "source": [
    "# Datasets & Dataloaders\n",
    "https://pytorch.org/tutorials/beginner/basics/data_tutorial.html "
   ]
  },
  {
   "cell_type": "code",
   "execution_count": 74,
   "id": "fbbaf035ce7947ad",
   "metadata": {
    "ExecuteTime": {
     "end_time": "2023-10-14T10:52:02.383826Z",
     "start_time": "2023-10-14T10:52:02.362549Z"
    }
   },
   "outputs": [],
   "source": [
    "import torch\n",
    "from torch.utils.data import Dataset\n",
    "from torchvision import datasets\n",
    "from torchvision.transforms import ToTensor \n",
    "import matplotlib.pyplot as plt "
   ]
  },
  {
   "cell_type": "code",
   "execution_count": 75,
   "id": "bef9d5272f9cddcc",
   "metadata": {
    "ExecuteTime": {
     "end_time": "2023-10-14T11:03:49.035232Z",
     "start_time": "2023-10-14T10:58:13.380319Z"
    }
   },
   "outputs": [
    {
     "name": "stdout",
     "output_type": "stream",
     "text": [
      "Downloading http://fashion-mnist.s3-website.eu-central-1.amazonaws.com/train-images-idx3-ubyte.gz\n",
      "Downloading http://fashion-mnist.s3-website.eu-central-1.amazonaws.com/train-images-idx3-ubyte.gz to ./data/FashionMNIST/raw/train-images-idx3-ubyte.gz\n"
     ]
    },
    {
     "name": "stderr",
     "output_type": "stream",
     "text": [
      "100.0%\n"
     ]
    },
    {
     "name": "stdout",
     "output_type": "stream",
     "text": [
      "Extracting ./data/FashionMNIST/raw/train-images-idx3-ubyte.gz to ./data/FashionMNIST/raw\n",
      "\n",
      "Downloading http://fashion-mnist.s3-website.eu-central-1.amazonaws.com/train-labels-idx1-ubyte.gz\n",
      "Downloading http://fashion-mnist.s3-website.eu-central-1.amazonaws.com/train-labels-idx1-ubyte.gz to ./data/FashionMNIST/raw/train-labels-idx1-ubyte.gz\n"
     ]
    },
    {
     "name": "stderr",
     "output_type": "stream",
     "text": [
      "100.0%\n"
     ]
    },
    {
     "name": "stdout",
     "output_type": "stream",
     "text": [
      "Extracting ./data/FashionMNIST/raw/train-labels-idx1-ubyte.gz to ./data/FashionMNIST/raw\n",
      "\n",
      "Downloading http://fashion-mnist.s3-website.eu-central-1.amazonaws.com/t10k-images-idx3-ubyte.gz\n",
      "Downloading http://fashion-mnist.s3-website.eu-central-1.amazonaws.com/t10k-images-idx3-ubyte.gz to ./data/FashionMNIST/raw/t10k-images-idx3-ubyte.gz\n"
     ]
    },
    {
     "name": "stderr",
     "output_type": "stream",
     "text": [
      "100.0%\n"
     ]
    },
    {
     "name": "stdout",
     "output_type": "stream",
     "text": [
      "Extracting ./data/FashionMNIST/raw/t10k-images-idx3-ubyte.gz to ./data/FashionMNIST/raw\n",
      "\n",
      "Downloading http://fashion-mnist.s3-website.eu-central-1.amazonaws.com/t10k-labels-idx1-ubyte.gz\n",
      "Downloading http://fashion-mnist.s3-website.eu-central-1.amazonaws.com/t10k-labels-idx1-ubyte.gz to ./data/FashionMNIST/raw/t10k-labels-idx1-ubyte.gz\n"
     ]
    },
    {
     "name": "stderr",
     "output_type": "stream",
     "text": [
      "100.0%"
     ]
    },
    {
     "name": "stdout",
     "output_type": "stream",
     "text": [
      "Extracting ./data/FashionMNIST/raw/t10k-labels-idx1-ubyte.gz to ./data/FashionMNIST/raw\n"
     ]
    },
    {
     "name": "stderr",
     "output_type": "stream",
     "text": [
      "\n"
     ]
    }
   ],
   "source": [
    "\"\"\"\n",
    "Params of FashionMNIST Dataset:\n",
    "- root: is the path where the train/test data is stored,\n",
    "- train: specifies training or test dataset,\n",
    "- download=True: downloads the data from the internet if it’s not available at root.\n",
    "- transform and target_transform: specify the feature and label transformations\n",
    "\"\"\"\n",
    "\n",
    "training_data = datasets.FashionMNIST(\n",
    "    root = \"./data\",\n",
    "    train=True,\n",
    "    download=True,\n",
    "    transform=ToTensor()    \n",
    "    )\n",
    "\n",
    "test_data = datasets.FashionMNIST(\n",
    "    root = \"./data\",\n",
    "    train=False,\n",
    "    download=True,\n",
    "    transform=ToTensor()    \n",
    "    ) "
   ]
  },
  {
   "cell_type": "code",
   "execution_count": 76,
   "id": "cfa221842d6147c8",
   "metadata": {
    "ExecuteTime": {
     "end_time": "2023-10-14T11:04:19.629403Z",
     "start_time": "2023-10-14T11:04:19.620316Z"
    }
   },
   "outputs": [],
   "source": [
    "labels_map = {\n",
    "    0: \"T-Shirt\",\n",
    "    1: \"Trouser\",\n",
    "    2: \"Pullover\",\n",
    "    3: \"Dress\",\n",
    "    4: \"Coat\",\n",
    "    5: \"Sandal\",\n",
    "    6: \"Shirt\",\n",
    "    7: \"Sneaker\",\n",
    "    8: \"Bag\",\n",
    "    9: \"Ankle Boot\",\n",
    "}"
   ]
  },
  {
   "cell_type": "code",
   "execution_count": 77,
   "id": "b3572e778750a9b9",
   "metadata": {
    "ExecuteTime": {
     "end_time": "2023-10-14T11:04:23.585029Z",
     "start_time": "2023-10-14T11:04:23.317031Z"
    }
   },
   "outputs": [
    {
     "data": {
      "image/png": "[encoded data removed]",
      "text/plain": [
       "<Figure size 800x800 with 9 Axes>"
      ]
     },
     "metadata": {},
     "output_type": "display_data"
    }
   ],
   "source": [
    "# Iterating and Visualizing the Dataset\n",
    "figure = plt.figure(figsize=(8, 8))\n",
    "cols, rows = 3, 3\n",
    "for i in range(1, cols * rows + 1):\n",
    "    sample_idx = torch.randint(len(training_data), size=(1,)).item()\n",
    "    img, label = training_data[sample_idx]\n",
    "    figure.add_subplot(rows, cols, i)\n",
    "    plt.title(labels_map[label])\n",
    "    plt.axis(\"off\")\n",
    "    plt.imshow(img.squeeze(), cmap=\"gray\")\n",
    "plt.show()"
   ]
  },
  {
   "cell_type": "markdown",
   "id": "315719321d6e360f",
   "metadata": {},
   "source": [
    "# Transforms "
   ]
  },
  {
   "cell_type": "code",
   "execution_count": 78,
   "id": "cf86a8c166138499",
   "metadata": {
    "ExecuteTime": {
     "end_time": "2023-10-14T11:16:36.595995Z",
     "start_time": "2023-10-14T11:16:36.585750Z"
    }
   },
   "outputs": [],
   "source": [
    "from torchvision.transforms import ToTensor, Lambda"
   ]
  },
  {
   "cell_type": "code",
   "execution_count": null,
   "id": "a8efbab189376138",
   "metadata": {},
   "outputs": [],
   "source": [
    "\"\"\"\n",
    "The FashionMNIST features are in PIL Image format, and the labels are integers. For training, we need the features as normalized tensors, and the labels as one-hot encoded tensors. To make these transformations, we use ToTensor and Lambda.\n",
    "\n",
    "ToTensor converts a PIL image or NumPy ndarray into a FloatTensor. and scales the image’s pixel intensity values in the range [0., 1.]\n",
    "\n",
    "Lambda transforms apply any user-defined lambda function. Here, we define a function to turn the integer into a one-hot encoded tensor. It first creates a zero tensor of size 10 (the number of labels in our dataset) and calls scatter_ which assigns a value=1 on the index as given by the label y.\n",
    "\"\"\"\n",
    "\n",
    "training_data = datasets.FashionMNIST(\n",
    "    root = \"./data\",\n",
    "    train=True,\n",
    "    download=True,\n",
    "    transform=ToTensor(),\n",
    "    target_transform=Lambda(lambda y: torch.zeros(10, dtype=torch.float).scatter_(0, torch.tensor(y), value=1))  #for one-hot encoding \n",
    "    )"
   ]
  },
  {
   "cell_type": "code",
   "execution_count": 79,
   "id": "f171b7e128cc8c31",
   "metadata": {
    "ExecuteTime": {
     "end_time": "2023-10-14T11:20:59.376585Z",
     "start_time": "2023-10-14T11:20:59.369241Z"
    }
   },
   "outputs": [],
   "source": [
    "target_transform = Lambda(lambda y: torch.zeros(\n",
    "    10, dtype=torch.float).scatter_(dim=0, index=torch.tensor(y), value=1))"
   ]
  },
  {
   "cell_type": "code",
   "execution_count": null,
   "id": "d6f376453d53d65a",
   "metadata": {},
   "outputs": [],
   "source": []
  },
  {
   "cell_type": "markdown",
   "id": "7c926ec3",
   "metadata": {},
   "source": [
    "# Automatic Differentiation\n",
    "- https://pytorch.org/tutorials/beginner/basics/autogradqs_tutorial.html\n",
    "\n",
    "When training neural networks, the most frequently used algorithm is back propagation. In this algorithm, parameters (model weights) are adjusted according to the gradient of the loss function with respect to the given parameter.\n",
    "\n",
    "To compute those gradients, PyTorch has a built-in differentiation engine called torch.autograd. It supports automatic computation of gradient for any computational graph.\n",
    "\n",
    "Consider the simplest one-layer neural network, with input x, parameters w and b, and some loss function. \n",
    "\n",
    "In this network, w and b are parameters, which we need to optimize. Thus, we need to be able to compute the gradients of loss function with respect to those variables. In order to do that, we set the requires_grad property of those tensors."
   ]
  },
  {
   "cell_type": "code",
   "execution_count": 35,
   "id": "08c89e72",
   "metadata": {
    "ExecuteTime": {
     "end_time": "2023-11-11T10:24:38.399365Z",
     "start_time": "2023-11-11T10:24:38.395650Z"
    }
   },
   "outputs": [],
   "source": [
    "x = torch.ones(5)  #input tensor\n",
    "y = torch.zeros(3)  #expected output"
   ]
  },
  {
   "cell_type": "code",
   "execution_count": 36,
   "id": "ec6b06cf",
   "metadata": {
    "ExecuteTime": {
     "end_time": "2023-11-11T10:24:38.574560Z",
     "start_time": "2023-11-11T10:24:38.570693Z"
    }
   },
   "outputs": [],
   "source": [
    "# params to optimize\n",
    "\n",
    "w = torch.randn(5, 3, requires_grad=True)\n",
    "b = torch.randn(3, requires_grad=True)"
   ]
  },
  {
   "cell_type": "code",
   "execution_count": 37,
   "id": "3fd76890",
   "metadata": {
    "ExecuteTime": {
     "end_time": "2023-11-11T10:24:38.723625Z",
     "start_time": "2023-11-11T10:24:38.720513Z"
    }
   },
   "outputs": [],
   "source": [
    "z = torch.matmul(x, w) + b"
   ]
  },
  {
   "cell_type": "code",
   "execution_count": 38,
   "id": "9ef3c394",
   "metadata": {
    "ExecuteTime": {
     "end_time": "2023-11-11T10:24:38.872427Z",
     "start_time": "2023-11-11T10:24:38.867256Z"
    }
   },
   "outputs": [],
   "source": [
    "loss = torch.nn.functional.binary_cross_entropy_with_logits(z, y)"
   ]
  },
  {
   "cell_type": "code",
   "execution_count": 39,
   "id": "e7ab662b",
   "metadata": {
    "ExecuteTime": {
     "end_time": "2023-11-11T10:24:39.028933Z",
     "start_time": "2023-11-11T10:24:39.020077Z"
    }
   },
   "outputs": [
    {
     "data": {
      "text/plain": [
       "tensor(2.6850, grad_fn=<BinaryCrossEntropyWithLogitsBackward0>)"
      ]
     },
     "execution_count": 39,
     "metadata": {},
     "output_type": "execute_result"
    }
   ],
   "source": [
    "loss"
   ]
  },
  {
   "cell_type": "markdown",
   "id": "747e6611",
   "metadata": {},
   "source": [
    "## Computing Gradients\n",
    "\n",
    "A function that we apply to tensors to construct computational graph is in fact an object of class Function. \n",
    "This object knows how to compute the function in the forward direction, and also how to compute its derivative during the backward propagation step. \n",
    "\n",
    "A reference to the backward propagation function is stored in grad_fn property of a tensor. \n",
    "\n",
    "To optimize weights of parameters in the neural network, we need to compute the derivatives of our loss function with respect to parameters, namely, we need loss wrt w, loss wrt b under some fixed values of x and y. \n",
    "\n",
    "To compute those derivatives, we call loss.backward(), and then retrieve the values from w.grad and b.grad"
   ]
  },
  {
   "cell_type": "code",
   "execution_count": 40,
   "id": "5457f2e8",
   "metadata": {
    "ExecuteTime": {
     "end_time": "2023-11-11T10:24:39.450543Z",
     "start_time": "2023-11-11T10:24:39.445328Z"
    }
   },
   "outputs": [
    {
     "name": "stdout",
     "output_type": "stream",
     "text": [
      "Gradient function for z = <AddBackward0 object at 0x29ab7fca0>\n",
      "Gradient function for loss = <BinaryCrossEntropyWithLogitsBackward0 object at 0x29ab7fcd0>\n"
     ]
    }
   ],
   "source": [
    "print(f\"Gradient function for z = {z.grad_fn}\")\n",
    "print(f\"Gradient function for loss = {loss.grad_fn}\")"
   ]
  },
  {
   "cell_type": "code",
   "execution_count": 41,
   "id": "252c6932",
   "metadata": {
    "ExecuteTime": {
     "end_time": "2023-11-11T10:24:39.894963Z",
     "start_time": "2023-11-11T10:24:39.886857Z"
    }
   },
   "outputs": [
    {
     "name": "stdout",
     "output_type": "stream",
     "text": [
      "tensor([[0.1858, 0.3032, 0.3307],\n",
      "        [0.1858, 0.3032, 0.3307],\n",
      "        [0.1858, 0.3032, 0.3307],\n",
      "        [0.1858, 0.3032, 0.3307],\n",
      "        [0.1858, 0.3032, 0.3307]])\n",
      "tensor([0.1858, 0.3032, 0.3307])\n"
     ]
    }
   ],
   "source": [
    "loss.backward()\n",
    "print(w.grad)\n",
    "print(b.grad)"
   ]
  },
  {
   "cell_type": "markdown",
   "id": "01b3b2f7",
   "metadata": {},
   "source": [
    "## Disabling Gradient Tracking \n",
    "\n",
    "By default, all tensors with requires_grad=True are tracking their computational history and support gradient computation. However, there are some cases when we do not need to do that, for example, when we have trained the model and just want to apply it to some input data, i.e. we only want to do forward computations through the network. \n",
    "\n",
    "There are reasons you might want to disable gradient tracking:\n",
    "\n",
    "- To mark some parameters in your neural network as frozen parameters.\n",
    "- To speed up computations when you are only doing forward pass, because computations on tensors that do not track gradients would be more efficient.\n",
    "\n",
    "\n",
    "We can stop tracking computations by surrounding our computation code with torch.no_grad() block.\n",
    "\n",
    "Another way to achieve the same result is to use the detach() method on the tensor."
   ]
  },
  {
   "cell_type": "code",
   "execution_count": 42,
   "id": "7383a241",
   "metadata": {
    "ExecuteTime": {
     "end_time": "2023-11-11T10:27:55.546416Z",
     "start_time": "2023-11-11T10:27:55.541131Z"
    }
   },
   "outputs": [
    {
     "name": "stdout",
     "output_type": "stream",
     "text": [
      "True\n",
      "False\n"
     ]
    }
   ],
   "source": [
    "z = torch.matmul(x, w)+b\n",
    "print(z.requires_grad)\n",
    "\n",
    "with torch.no_grad():\n",
    "    z = torch.matmul(x, w)+b\n",
    "print(z.requires_grad)"
   ]
  },
  {
   "cell_type": "code",
   "execution_count": 43,
   "id": "3c702e7b",
   "metadata": {
    "ExecuteTime": {
     "end_time": "2023-11-11T10:28:36.196099Z",
     "start_time": "2023-11-11T10:28:36.190396Z"
    }
   },
   "outputs": [
    {
     "name": "stdout",
     "output_type": "stream",
     "text": [
      "False\n"
     ]
    }
   ],
   "source": [
    "z = torch.matmul(x, w)+b\n",
    "z_det = z.detach()\n",
    "print(z_det.requires_grad)"
   ]
  },
  {
   "cell_type": "code",
   "execution_count": null,
   "id": "1771c817",
   "metadata": {},
   "outputs": [],
   "source": []
  },
  {
   "cell_type": "markdown",
   "id": "f93fec2b",
   "metadata": {},
   "source": [
    "# Optimizing Model Parameters\n",
    "- https://pytorch.org/tutorials/beginner/basics/optimization_tutorial.html\n",
    "\n",
    "Now that we have a model and data it’s time to train, validate and test our model by optimizing its parameters on our data. Training a model is an iterative process; in each iteration the model makes a guess about the output, calculates the error in its guess (loss), collects the derivatives of the error with respect to its parameters (as we saw in the previous section), and optimizes these parameters using gradient descent. \n",
    "\n",
    "\n"
   ]
  },
  {
   "cell_type": "code",
   "execution_count": 45,
   "id": "567b5037",
   "metadata": {
    "ExecuteTime": {
     "end_time": "2023-11-11T10:36:33.051854Z",
     "start_time": "2023-11-11T10:36:33.011223Z"
    }
   },
   "outputs": [],
   "source": [
    "# prerequisite\n",
    "import torch\n",
    "from torch import nn\n",
    "from torch.utils.data import DataLoader\n",
    "from torchvision import datasets\n",
    "from torchvision.transforms import ToTensor\n",
    "\n",
    "training_data = datasets.FashionMNIST(\n",
    "    root=\"data\",\n",
    "    train=True,\n",
    "    download=True,\n",
    "    transform=ToTensor()\n",
    ")\n",
    "\n",
    "test_data = datasets.FashionMNIST(\n",
    "    root=\"data\",\n",
    "    train=False,\n",
    "    download=True,\n",
    "    transform=ToTensor()\n",
    ")\n",
    "\n",
    "train_dataloader = DataLoader(training_data, batch_size=64)\n",
    "test_dataloader = DataLoader(test_data, batch_size=64)\n",
    "\n",
    "class NeuralNetwork(nn.Module):\n",
    "    def __init__(self):\n",
    "        super().__init__()\n",
    "        self.flatten = nn.Flatten()\n",
    "        self.linear_relu_stack = nn.Sequential(\n",
    "            nn.Linear(28*28, 512),\n",
    "            nn.ReLU(),\n",
    "            nn.Linear(512, 512),\n",
    "            nn.ReLU(),\n",
    "            nn.Linear(512, 10),\n",
    "        )\n",
    "\n",
    "    def forward(self, x):\n",
    "        x = self.flatten(x)\n",
    "        logits = self.linear_relu_stack(x)\n",
    "        return logits\n",
    "    \n",
    "# model = NeuralNetwork()"
   ]
  },
  {
   "cell_type": "markdown",
   "id": "7b09e8bb",
   "metadata": {},
   "source": [
    "## Hyperparameters\n",
    "- https://pytorch.org/tutorials/beginner/hyperparameter_tuning_tutorial.html\n",
    "\n",
    "Hyperparameters are adjustable parameters that let you control the model optimization process. Different hyperparameter values can impact model training and convergence rates\n",
    "\n",
    "\n",
    "- Number of Epochs - the number times to iterate over the dataset\n",
    "\n",
    "- Batch Size - the number of data samples propagated through the network before the parameters are updated\n",
    "\n",
    "- Learning Rate - how much to update models parameters at each batch/epoch. Smaller values yield slow learning speed, while large values may result in unpredictable behavior during training."
   ]
  },
  {
   "cell_type": "code",
   "execution_count": 48,
   "id": "b0ed5009",
   "metadata": {
    "ExecuteTime": {
     "end_time": "2023-11-11T10:42:20.559990Z",
     "start_time": "2023-11-11T10:42:20.556610Z"
    }
   },
   "outputs": [],
   "source": [
    "learning_rate = 1e-3\n",
    "batch_size = 64\n",
    "epochs = 5"
   ]
  },
  {
   "cell_type": "markdown",
   "id": "b8e699e7",
   "metadata": {},
   "source": [
    "## Loss Function\n",
    "\n",
    "When presented with some training data, our untrained network is likely not to give the correct answer. Loss function measures the degree of dissimilarity of obtained result to the target value, and it is the loss function that we want to minimize during training. To calculate the loss we make a prediction using the inputs of our given data sample and compare it against the true data label value.\n",
    "\n",
    "Common loss functions include nn.MSELoss (Mean Square Error) for regression tasks, and nn.NLLLoss (Negative Log Likelihood) for classification. nn.CrossEntropyLoss combines nn.LogSoftmax and nn.NLLLoss.\n",
    "\n",
    "We pass our model’s output logits to nn.CrossEntropyLoss, which will normalize the logits and compute the prediction error."
   ]
  },
  {
   "cell_type": "code",
   "execution_count": 49,
   "id": "cf6685c5",
   "metadata": {
    "ExecuteTime": {
     "end_time": "2023-11-11T10:42:20.901384Z",
     "start_time": "2023-11-11T10:42:20.898254Z"
    }
   },
   "outputs": [],
   "source": [
    "# Initialize the loss function\n",
    "loss_fn = nn.CrossEntropyLoss()\n"
   ]
  },
  {
   "cell_type": "markdown",
   "id": "23b23da4",
   "metadata": {},
   "source": [
    "## Optimizer\n",
    "\n",
    "Optimization is the process of adjusting model parameters to reduce model error in each training step. Optimization algorithms define how this process is performed (in this example we use Stochastic Gradient Descent). All optimization logic is encapsulated in the optimizer object. Here, we use the SGD optimizer; additionally, there are many different optimizers available in PyTorch such as ADAM and RMSProp, that work better for different kinds of models and data.\n",
    "\n",
    "We initialize the optimizer by registering the model’s parameters that need to be trained, and passing in the learning rate hyperparameter."
   ]
  },
  {
   "cell_type": "code",
   "execution_count": 50,
   "id": "8fe783dd",
   "metadata": {
    "ExecuteTime": {
     "end_time": "2023-11-11T10:42:23.300699Z",
     "start_time": "2023-11-11T10:42:23.296471Z"
    }
   },
   "outputs": [],
   "source": [
    "optimizer = torch.optim.SGD(model.parameters(), lr=learning_rate)"
   ]
  },
  {
   "cell_type": "code",
   "execution_count": null,
   "id": "b6824db3",
   "metadata": {},
   "outputs": [],
   "source": []
  },
  {
   "cell_type": "markdown",
   "id": "66d43176",
   "metadata": {},
   "source": [
    "## Full Implementation"
   ]
  },
  {
   "cell_type": "code",
   "execution_count": 51,
   "id": "56936ec6",
   "metadata": {
    "ExecuteTime": {
     "end_time": "2023-11-11T10:42:44.014037Z",
     "start_time": "2023-11-11T10:42:43.999872Z"
    }
   },
   "outputs": [],
   "source": [
    "def train_loop(dataloader, model, loss_fn, optimizer):\n",
    "    size = len(dataloader.dataset)\n",
    "\n",
    "    # Set the model to training mode - important for batch normalization and dropout layers\n",
    "    # Unnecessary in this situation but added for best practices\n",
    "    model.train()\n",
    "    for batch, (X, y) in enumerate(dataloader):\n",
    "        \n",
    "        # Compute prediction and loss\n",
    "        pred = model(X)\n",
    "        loss = loss_fn(pred, y)\n",
    "\n",
    "        # Backpropagation\n",
    "        loss.backward()\n",
    "        optimizer.step()\n",
    "        optimizer.zero_grad()\n",
    "\n",
    "        if batch % 100 == 0:\n",
    "            loss, current = loss.item(), (batch + 1) * len(X)\n",
    "            print(f\"loss: {loss:>7f}  [{current:>5d}/{size:>5d}]\")\n",
    "\n",
    "\n",
    "def test_loop(dataloader, model, loss_fn):\n",
    "    # Set the model to evaluation mode - important for batch normalization and dropout layers\n",
    "    # Unnecessary in this situation but added for best practices\n",
    "    model.eval()\n",
    "    size = len(dataloader.dataset)\n",
    "    num_batches = len(dataloader)\n",
    "    test_loss, correct = 0, 0\n",
    "\n",
    "    # Evaluating the model with torch.no_grad() ensures that no gradients are computed during test mode\n",
    "    # also serves to reduce unnecessary gradient computations and memory usage for tensors with requires_grad=True\n",
    "    with torch.no_grad():\n",
    "        for X, y in dataloader:\n",
    "            pred = model(X)\n",
    "            test_loss += loss_fn(pred, y).item()\n",
    "            correct += (pred.argmax(1) == y).type(torch.float).sum().item()\n",
    "\n",
    "    test_loss /= num_batches\n",
    "    correct /= size\n",
    "    print(f\"Test Error: \\n Accuracy: {(100*correct):>0.1f}%, Avg loss: {test_loss:>8f} \\n\")"
   ]
  },
  {
   "cell_type": "code",
   "execution_count": 53,
   "id": "33227ca4",
   "metadata": {
    "ExecuteTime": {
     "end_time": "2023-11-11T10:46:47.963338Z",
     "start_time": "2023-11-11T10:46:47.948145Z"
    }
   },
   "outputs": [],
   "source": [
    "model = NeuralNetwork()\n",
    "loss_fn = nn.CrossEntropyLoss()\n",
    "optimizer = torch.optim.SGD(model.parameters(), lr=learning_rate)"
   ]
  },
  {
   "cell_type": "code",
   "execution_count": 54,
   "id": "88618887",
   "metadata": {
    "ExecuteTime": {
     "end_time": "2023-11-11T10:47:13.712713Z",
     "start_time": "2023-11-11T10:46:48.863725Z"
    }
   },
   "outputs": [
    {
     "name": "stdout",
     "output_type": "stream",
     "text": [
      "Epoch 1\n",
      "-------------------------------\n",
      "loss: 2.307526  [   64/60000]\n",
      "loss: 2.292961  [ 6464/60000]\n",
      "loss: 2.275815  [12864/60000]\n",
      "loss: 2.273693  [19264/60000]\n",
      "loss: 2.249394  [25664/60000]\n",
      "loss: 2.226959  [32064/60000]\n",
      "loss: 2.236437  [38464/60000]\n",
      "loss: 2.202532  [44864/60000]\n",
      "loss: 2.192472  [51264/60000]\n",
      "loss: 2.163389  [57664/60000]\n",
      "Test Error: \n",
      " Accuracy: 40.9%, Avg loss: 2.157350 \n",
      "\n",
      "Epoch 2\n",
      "-------------------------------\n",
      "loss: 2.168182  [   64/60000]\n",
      "loss: 2.159090  [ 6464/60000]\n",
      "loss: 2.098596  [12864/60000]\n",
      "loss: 2.118662  [19264/60000]\n",
      "loss: 2.073831  [25664/60000]\n",
      "loss: 2.007686  [32064/60000]\n",
      "loss: 2.050139  [38464/60000]\n",
      "loss: 1.964725  [44864/60000]\n",
      "loss: 1.963769  [51264/60000]\n",
      "loss: 1.906926  [57664/60000]\n",
      "Test Error: \n",
      " Accuracy: 49.5%, Avg loss: 1.894366 \n",
      "\n",
      "Epoch 3\n",
      "-------------------------------\n",
      "loss: 1.926684  [   64/60000]\n",
      "loss: 1.903347  [ 6464/60000]\n",
      "loss: 1.777662  [12864/60000]\n",
      "loss: 1.824379  [19264/60000]\n",
      "loss: 1.725507  [25664/60000]\n",
      "loss: 1.662947  [32064/60000]\n",
      "loss: 1.708807  [38464/60000]\n",
      "loss: 1.594016  [44864/60000]\n",
      "loss: 1.617197  [51264/60000]\n",
      "loss: 1.531542  [57664/60000]\n",
      "Test Error: \n",
      " Accuracy: 57.7%, Avg loss: 1.528554 \n",
      "\n",
      "Epoch 4\n",
      "-------------------------------\n",
      "loss: 1.593299  [   64/60000]\n",
      "loss: 1.560508  [ 6464/60000]\n",
      "loss: 1.402138  [12864/60000]\n",
      "loss: 1.486292  [19264/60000]\n",
      "loss: 1.375227  [25664/60000]\n",
      "loss: 1.349872  [32064/60000]\n",
      "loss: 1.392334  [38464/60000]\n",
      "loss: 1.298228  [44864/60000]\n",
      "loss: 1.330986  [51264/60000]\n",
      "loss: 1.245238  [57664/60000]\n",
      "Test Error: \n",
      " Accuracy: 63.6%, Avg loss: 1.258248 \n",
      "\n",
      "Epoch 5\n",
      "-------------------------------\n",
      "loss: 1.331626  [   64/60000]\n",
      "loss: 1.312345  [ 6464/60000]\n",
      "loss: 1.145018  [12864/60000]\n",
      "loss: 1.260560  [19264/60000]\n",
      "loss: 1.149126  [25664/60000]\n",
      "loss: 1.149666  [32064/60000]\n",
      "loss: 1.194949  [38464/60000]\n",
      "loss: 1.117224  [44864/60000]\n",
      "loss: 1.150998  [51264/60000]\n",
      "loss: 1.075239  [57664/60000]\n",
      "Test Error: \n",
      " Accuracy: 65.1%, Avg loss: 1.089729 \n",
      "\n",
      "Epoch 6\n",
      "-------------------------------\n",
      "loss: 1.157178  [   64/60000]\n",
      "loss: 1.154928  [ 6464/60000]\n",
      "loss: 0.975927  [12864/60000]\n",
      "loss: 1.118153  [19264/60000]\n",
      "loss: 1.004505  [25664/60000]\n",
      "loss: 1.014955  [32064/60000]\n",
      "loss: 1.070705  [38464/60000]\n",
      "loss: 1.002346  [44864/60000]\n",
      "loss: 1.033369  [51264/60000]\n",
      "loss: 0.967988  [57664/60000]\n",
      "Test Error: \n",
      " Accuracy: 66.2%, Avg loss: 0.979756 \n",
      "\n",
      "Epoch 7\n",
      "-------------------------------\n",
      "loss: 1.035135  [   64/60000]\n",
      "loss: 1.052106  [ 6464/60000]\n",
      "loss: 0.859663  [12864/60000]\n",
      "loss: 1.022607  [19264/60000]\n",
      "loss: 0.911146  [25664/60000]\n",
      "loss: 0.919711  [32064/60000]\n",
      "loss: 0.988624  [38464/60000]\n",
      "loss: 0.928796  [44864/60000]\n",
      "loss: 0.952952  [51264/60000]\n",
      "loss: 0.897189  [57664/60000]\n",
      "Test Error: \n",
      " Accuracy: 67.5%, Avg loss: 0.905367 \n",
      "\n",
      "Epoch 8\n",
      "-------------------------------\n",
      "loss: 0.945912  [   64/60000]\n",
      "loss: 0.981518  [ 6464/60000]\n",
      "loss: 0.777573  [12864/60000]\n",
      "loss: 0.955899  [19264/60000]\n",
      "loss: 0.848840  [25664/60000]\n",
      "loss: 0.851065  [32064/60000]\n",
      "loss: 0.931211  [38464/60000]\n",
      "loss: 0.880460  [44864/60000]\n",
      "loss: 0.895761  [51264/60000]\n",
      "loss: 0.847642  [57664/60000]\n",
      "Test Error: \n",
      " Accuracy: 68.7%, Avg loss: 0.852549 \n",
      "\n",
      "Epoch 9\n",
      "-------------------------------\n",
      "loss: 0.877783  [   64/60000]\n",
      "loss: 0.929595  [ 6464/60000]\n",
      "loss: 0.716915  [12864/60000]\n",
      "loss: 0.906804  [19264/60000]\n",
      "loss: 0.804545  [25664/60000]\n",
      "loss: 0.799713  [32064/60000]\n",
      "loss: 0.888229  [38464/60000]\n",
      "loss: 0.847215  [44864/60000]\n",
      "loss: 0.853378  [51264/60000]\n",
      "loss: 0.810504  [57664/60000]\n",
      "Test Error: \n",
      " Accuracy: 69.9%, Avg loss: 0.812929 \n",
      "\n",
      "Epoch 10\n",
      "-------------------------------\n",
      "loss: 0.823359  [   64/60000]\n",
      "loss: 0.888797  [ 6464/60000]\n",
      "loss: 0.670116  [12864/60000]\n",
      "loss: 0.869398  [19264/60000]\n",
      "loss: 0.770954  [25664/60000]\n",
      "loss: 0.760280  [32064/60000]\n",
      "loss: 0.853774  [38464/60000]\n",
      "loss: 0.822913  [44864/60000]\n",
      "loss: 0.820765  [51264/60000]\n",
      "loss: 0.780984  [57664/60000]\n",
      "Test Error: \n",
      " Accuracy: 71.3%, Avg loss: 0.781648 \n",
      "\n",
      "Done!\n"
     ]
    }
   ],
   "source": [
    "epochs = 10\n",
    "\n",
    "for t in range(epochs):\n",
    "    print(f\"Epoch {t+1}\\n-------------------------------\")\n",
    "    train_loop(train_dataloader, model, loss_fn, optimizer)\n",
    "    test_loop(test_dataloader, model, loss_fn)\n",
    "print(\"Done!\")"
   ]
  },
  {
   "cell_type": "code",
   "execution_count": null,
   "id": "678eb7fc",
   "metadata": {},
   "outputs": [],
   "source": []
  },
  {
   "cell_type": "markdown",
   "id": "e0aba443",
   "metadata": {},
   "source": [
    "#  Save and Load the Model\n",
    "- https://pytorch.org/tutorials/beginner/basics/saveloadrun_tutorial.html"
   ]
  },
  {
   "cell_type": "markdown",
   "id": "67adf8fa",
   "metadata": {},
   "source": [
    "## Saving and Loading Model Weights\n",
    "PyTorch models store the learned parameters in an internal state dictionary, called state_dict. These can be persisted via the torch.save method.\n",
    "\n",
    "To load model weights, you need to create an instance of the same model first, and then load the parameters using load_state_dict() method."
   ]
  },
  {
   "cell_type": "code",
   "execution_count": 55,
   "id": "ae56d131",
   "metadata": {
    "ExecuteTime": {
     "end_time": "2023-11-11T10:53:33.738692Z",
     "start_time": "2023-11-11T10:53:08.836321Z"
    }
   },
   "outputs": [
    {
     "name": "stderr",
     "output_type": "stream",
     "text": [
      "Downloading: \"https://download.pytorch.org/models/vgg16-397923af.pth\" to /Users/donginkim/.cache/torch/hub/checkpoints/vgg16-397923af.pth\n",
      "4.4%IOPub message rate exceeded.\n",
      "The notebook server will temporarily stop sending output\n",
      "to the client in order to avoid crashing it.\n",
      "To change this limit, set the config variable\n",
      "`--NotebookApp.iopub_msg_rate_limit`.\n",
      "\n",
      "Current values:\n",
      "NotebookApp.iopub_msg_rate_limit=1000.0 (msgs/sec)\n",
      "NotebookApp.rate_limit_window=3.0 (secs)\n",
      "\n",
      "15.8%IOPub message rate exceeded.\n",
      "The notebook server will temporarily stop sending output\n",
      "to the client in order to avoid crashing it.\n",
      "To change this limit, set the config variable\n",
      "`--NotebookApp.iopub_msg_rate_limit`.\n",
      "\n",
      "Current values:\n",
      "NotebookApp.iopub_msg_rate_limit=1000.0 (msgs/sec)\n",
      "NotebookApp.rate_limit_window=3.0 (secs)\n",
      "\n",
      "27.3%IOPub message rate exceeded.\n",
      "The notebook server will temporarily stop sending output\n",
      "to the client in order to avoid crashing it.\n",
      "To change this limit, set the config variable\n",
      "`--NotebookApp.iopub_msg_rate_limit`.\n",
      "\n",
      "Current values:\n",
      "NotebookApp.iopub_msg_rate_limit=1000.0 (msgs/sec)\n",
      "NotebookApp.rate_limit_window=3.0 (secs)\n",
      "\n",
      "41.5%IOPub message rate exceeded.\n",
      "The notebook server will temporarily stop sending output\n",
      "to the client in order to avoid crashing it.\n",
      "To change this limit, set the config variable\n",
      "`--NotebookApp.iopub_msg_rate_limit`.\n",
      "\n",
      "Current values:\n",
      "NotebookApp.iopub_msg_rate_limit=1000.0 (msgs/sec)\n",
      "NotebookApp.rate_limit_window=3.0 (secs)\n",
      "\n",
      "55.2%IOPub message rate exceeded.\n",
      "The notebook server will temporarily stop sending output\n",
      "to the client in order to avoid crashing it.\n",
      "To change this limit, set the config variable\n",
      "`--NotebookApp.iopub_msg_rate_limit`.\n",
      "\n",
      "Current values:\n",
      "NotebookApp.iopub_msg_rate_limit=1000.0 (msgs/sec)\n",
      "NotebookApp.rate_limit_window=3.0 (secs)\n",
      "\n",
      "69.9%IOPub message rate exceeded.\n",
      "The notebook server will temporarily stop sending output\n",
      "to the client in order to avoid crashing it.\n",
      "To change this limit, set the config variable\n",
      "`--NotebookApp.iopub_msg_rate_limit`.\n",
      "\n",
      "Current values:\n",
      "NotebookApp.iopub_msg_rate_limit=1000.0 (msgs/sec)\n",
      "NotebookApp.rate_limit_window=3.0 (secs)\n",
      "\n",
      "83.4%IOPub message rate exceeded.\n",
      "The notebook server will temporarily stop sending output\n",
      "to the client in order to avoid crashing it.\n",
      "To change this limit, set the config variable\n",
      "`--NotebookApp.iopub_msg_rate_limit`.\n",
      "\n",
      "Current values:\n",
      "NotebookApp.iopub_msg_rate_limit=1000.0 (msgs/sec)\n",
      "NotebookApp.rate_limit_window=3.0 (secs)\n",
      "\n",
      "98.2%IOPub message rate exceeded.\n",
      "The notebook server will temporarily stop sending output\n",
      "to the client in order to avoid crashing it.\n",
      "To change this limit, set the config variable\n",
      "`--NotebookApp.iopub_msg_rate_limit`.\n",
      "\n",
      "Current values:\n",
      "NotebookApp.iopub_msg_rate_limit=1000.0 (msgs/sec)\n",
      "NotebookApp.rate_limit_window=3.0 (secs)\n",
      "\n"
     ]
    }
   ],
   "source": [
    "import torchvision.models as models\n",
    "\n",
    "model = models.vgg16(weights='IMAGENET1K_V1')\n",
    "torch.save(model.state_dict(), 'model_weights.pth')"
   ]
  },
  {
   "cell_type": "code",
   "execution_count": 56,
   "id": "c298726c",
   "metadata": {
    "ExecuteTime": {
     "end_time": "2023-11-11T10:54:05.971477Z",
     "start_time": "2023-11-11T10:54:04.205806Z"
    }
   },
   "outputs": [
    {
     "data": {
      "text/plain": [
       "VGG(\n",
       "  (features): Sequential(\n",
       "    (0): Conv2d(3, 64, kernel_size=(3, 3), stride=(1, 1), padding=(1, 1))\n",
       "    (1): ReLU(inplace=True)\n",
       "    (2): Conv2d(64, 64, kernel_size=(3, 3), stride=(1, 1), padding=(1, 1))\n",
       "    (3): ReLU(inplace=True)\n",
       "    (4): MaxPool2d(kernel_size=2, stride=2, padding=0, dilation=1, ceil_mode=False)\n",
       "    (5): Conv2d(64, 128, kernel_size=(3, 3), stride=(1, 1), padding=(1, 1))\n",
       "    (6): ReLU(inplace=True)\n",
       "    (7): Conv2d(128, 128, kernel_size=(3, 3), stride=(1, 1), padding=(1, 1))\n",
       "    (8): ReLU(inplace=True)\n",
       "    (9): MaxPool2d(kernel_size=2, stride=2, padding=0, dilation=1, ceil_mode=False)\n",
       "    (10): Conv2d(128, 256, kernel_size=(3, 3), stride=(1, 1), padding=(1, 1))\n",
       "    (11): ReLU(inplace=True)\n",
       "    (12): Conv2d(256, 256, kernel_size=(3, 3), stride=(1, 1), padding=(1, 1))\n",
       "    (13): ReLU(inplace=True)\n",
       "    (14): Conv2d(256, 256, kernel_size=(3, 3), stride=(1, 1), padding=(1, 1))\n",
       "    (15): ReLU(inplace=True)\n",
       "    (16): MaxPool2d(kernel_size=2, stride=2, padding=0, dilation=1, ceil_mode=False)\n",
       "    (17): Conv2d(256, 512, kernel_size=(3, 3), stride=(1, 1), padding=(1, 1))\n",
       "    (18): ReLU(inplace=True)\n",
       "    (19): Conv2d(512, 512, kernel_size=(3, 3), stride=(1, 1), padding=(1, 1))\n",
       "    (20): ReLU(inplace=True)\n",
       "    (21): Conv2d(512, 512, kernel_size=(3, 3), stride=(1, 1), padding=(1, 1))\n",
       "    (22): ReLU(inplace=True)\n",
       "    (23): MaxPool2d(kernel_size=2, stride=2, padding=0, dilation=1, ceil_mode=False)\n",
       "    (24): Conv2d(512, 512, kernel_size=(3, 3), stride=(1, 1), padding=(1, 1))\n",
       "    (25): ReLU(inplace=True)\n",
       "    (26): Conv2d(512, 512, kernel_size=(3, 3), stride=(1, 1), padding=(1, 1))\n",
       "    (27): ReLU(inplace=True)\n",
       "    (28): Conv2d(512, 512, kernel_size=(3, 3), stride=(1, 1), padding=(1, 1))\n",
       "    (29): ReLU(inplace=True)\n",
       "    (30): MaxPool2d(kernel_size=2, stride=2, padding=0, dilation=1, ceil_mode=False)\n",
       "  )\n",
       "  (avgpool): AdaptiveAvgPool2d(output_size=(7, 7))\n",
       "  (classifier): Sequential(\n",
       "    (0): Linear(in_features=25088, out_features=4096, bias=True)\n",
       "    (1): ReLU(inplace=True)\n",
       "    (2): Dropout(p=0.5, inplace=False)\n",
       "    (3): Linear(in_features=4096, out_features=4096, bias=True)\n",
       "    (4): ReLU(inplace=True)\n",
       "    (5): Dropout(p=0.5, inplace=False)\n",
       "    (6): Linear(in_features=4096, out_features=1000, bias=True)\n",
       "  )\n",
       ")"
      ]
     },
     "execution_count": 56,
     "metadata": {},
     "output_type": "execute_result"
    }
   ],
   "source": [
    "model = models.vgg16() # we do not specify ``weights``, i.e. create untrained model\n",
    "model.load_state_dict(torch.load('model_weights.pth'))\n",
    "model.eval()"
   ]
  },
  {
   "cell_type": "markdown",
   "id": "8c8eb077",
   "metadata": {},
   "source": [
    "## Saving and Loading Models with Shapes\n",
    "When loading model weights, we needed to instantiate the model class first, because the class defines the structure of a network. We might want to save the structure of this class together with the model, in which case we can pass model (and not model.state_dict()) to the saving function:"
   ]
  },
  {
   "cell_type": "code",
   "execution_count": 57,
   "id": "b88ffde0",
   "metadata": {
    "ExecuteTime": {
     "end_time": "2023-11-11T10:54:31.836293Z",
     "start_time": "2023-11-11T10:54:31.114135Z"
    }
   },
   "outputs": [],
   "source": [
    "torch.save(model, 'model.pth')"
   ]
  },
  {
   "cell_type": "code",
   "execution_count": 58,
   "id": "15df9847",
   "metadata": {
    "ExecuteTime": {
     "end_time": "2023-11-11T10:54:36.973333Z",
     "start_time": "2023-11-11T10:54:36.858006Z"
    }
   },
   "outputs": [],
   "source": [
    "model = torch.load('model.pth')"
   ]
  },
  {
   "cell_type": "code",
   "execution_count": null,
   "id": "d45c0591",
   "metadata": {},
   "outputs": [],
   "source": []
  }
 ],
 "metadata": {
  "kernelspec": {
   "display_name": "Python 3 (ipykernel)",
   "language": "python",
   "name": "python3"
  },
  "language_info": {
   "codemirror_mode": {
    "name": "ipython",
    "version": 3
   },
   "file_extension": ".py",
   "mimetype": "text/x-python",
   "name": "python",
   "nbconvert_exporter": "python",
   "pygments_lexer": "ipython3",
   "version": "3.8.17"
  },
  "toc": {
   "base_numbering": 1,
   "nav_menu": {},
   "number_sections": true,
   "sideBar": true,
   "skip_h1_title": false,
   "title_cell": "Table of Contents",
   "title_sidebar": "Contents",
   "toc_cell": false,
   "toc_position": {},
   "toc_section_display": true,
   "toc_window_display": false
  }
 },
 "nbformat": 4,
 "nbformat_minor": 5
}
