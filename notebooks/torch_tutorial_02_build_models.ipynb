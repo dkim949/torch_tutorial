{
 "cells": [
  {
   "cell_type": "markdown",
   "id": "04fab21d",
   "metadata": {},
   "source": [
    "# Sources:\n",
    "- https://pytorch.org/tutorials/beginner/basics/quickstart_tutorial.html"
   ]
  },
  {
   "cell_type": "markdown",
   "id": "567abcc9",
   "metadata": {},
   "source": [
    "# Import Libraries"
   ]
  },
  {
   "cell_type": "code",
   "execution_count": 1,
   "id": "a6ac0932",
   "metadata": {
    "ExecuteTime": {
     "end_time": "2023-11-11T09:24:17.237487Z",
     "start_time": "2023-11-11T09:24:16.290095Z"
    }
   },
   "outputs": [],
   "source": [
    "import torch\n",
    "from torch import nn\n",
    "from torch.utils.data import DataLoader\n",
    "from torchvision import datasets\n",
    "from torchvision.transforms import ToTensor"
   ]
  },
  {
   "cell_type": "markdown",
   "id": "d2b87395",
   "metadata": {},
   "source": [
    "# Get Device for Training"
   ]
  },
  {
   "cell_type": "code",
   "execution_count": 2,
   "id": "fe7a3584",
   "metadata": {
    "ExecuteTime": {
     "end_time": "2023-11-11T09:37:49.715926Z",
     "start_time": "2023-11-11T09:37:49.686929Z"
    }
   },
   "outputs": [
    {
     "name": "stdout",
     "output_type": "stream",
     "text": [
      "Using mps device\n"
     ]
    }
   ],
   "source": [
    "device = (\n",
    "    \"cuda\"\n",
    "    if torch.cuda.is_available()\n",
    "    else \"mps\"\n",
    "    if torch.backends.mps.is_available()\n",
    "    else \"cpu\"\n",
    ")\n",
    "print(f\"Using {device} device\")"
   ]
  },
  {
   "cell_type": "markdown",
   "id": "fa519761",
   "metadata": {},
   "source": [
    "# Building Blocks\n",
    "Let’s break down the layers in the FashionMNIST model. "
   ]
  },
  {
   "cell_type": "markdown",
   "id": "cfbf6545",
   "metadata": {},
   "source": [
    "## sample image\n",
    "To illustrate it, we will take a sample minibatch of 3 images of size 28x28 and see what happens to it as we pass it through the network."
   ]
  },
  {
   "cell_type": "code",
   "execution_count": 17,
   "id": "3a936066",
   "metadata": {
    "ExecuteTime": {
     "end_time": "2023-11-11T09:48:35.352847Z",
     "start_time": "2023-11-11T09:48:35.348291Z"
    }
   },
   "outputs": [
    {
     "name": "stdout",
     "output_type": "stream",
     "text": [
      "torch.Size([3, 28, 28])\n"
     ]
    }
   ],
   "source": [
    "# sample minibatch of 3 images\n",
    "input_image = torch.rand(3,28,28)\n",
    "print(input_image.size())"
   ]
  },
  {
   "cell_type": "code",
   "execution_count": 16,
   "id": "eecf6a38",
   "metadata": {
    "ExecuteTime": {
     "end_time": "2023-11-11T09:48:21.903824Z",
     "start_time": "2023-11-11T09:48:21.891535Z"
    }
   },
   "outputs": [
    {
     "data": {
      "text/plain": [
       "tensor([[[0.2391, 0.3316, 0.7639,  ..., 0.2150, 0.7327, 0.6073],\n",
       "         [0.2287, 0.3643, 0.0266,  ..., 0.2557, 0.8740, 0.7171],\n",
       "         [0.4822, 0.0709, 0.0277,  ..., 0.5004, 0.6863, 0.5986],\n",
       "         ...,\n",
       "         [0.8172, 0.1579, 0.2233,  ..., 0.4589, 0.6800, 0.8321],\n",
       "         [0.1718, 0.4928, 0.6071,  ..., 0.5250, 0.9856, 0.3547],\n",
       "         [0.8076, 0.5768, 0.9636,  ..., 0.6789, 0.1943, 0.5142]],\n",
       "\n",
       "        [[0.3118, 0.0299, 0.9891,  ..., 0.1054, 0.1080, 0.3268],\n",
       "         [0.6290, 0.5072, 0.6226,  ..., 0.7353, 0.9042, 0.1540],\n",
       "         [0.9057, 0.9740, 0.8957,  ..., 0.1811, 0.5101, 0.2549],\n",
       "         ...,\n",
       "         [0.6396, 0.8761, 0.3859,  ..., 0.5628, 0.0973, 0.2900],\n",
       "         [0.3749, 0.3523, 0.9285,  ..., 0.8574, 0.1024, 0.5881],\n",
       "         [0.0300, 0.4045, 0.3007,  ..., 0.1426, 0.5842, 0.8821]],\n",
       "\n",
       "        [[0.5150, 0.6860, 0.5156,  ..., 0.7420, 0.8619, 0.1310],\n",
       "         [0.1153, 0.6639, 0.4073,  ..., 0.2324, 0.8800, 0.7939],\n",
       "         [0.9116, 0.8560, 0.1382,  ..., 0.5782, 0.2327, 0.1265],\n",
       "         ...,\n",
       "         [0.9595, 0.4576, 0.4981,  ..., 0.7646, 0.3007, 0.5430],\n",
       "         [0.9000, 0.4673, 0.5384,  ..., 0.9904, 0.3300, 0.5325],\n",
       "         [0.9295, 0.4101, 0.9945,  ..., 0.8984, 0.2114, 0.5765]]])"
      ]
     },
     "execution_count": 16,
     "metadata": {},
     "output_type": "execute_result"
    }
   ],
   "source": [
    "input_image"
   ]
  },
  {
   "cell_type": "markdown",
   "id": "71ca6dc8",
   "metadata": {},
   "source": [
    "## flatten\n",
    "We initialize the nn.Flatten layer to convert each 2D 28x28 image into a contiguous array of 784 pixel values ( the minibatch dimension (at dim=0) is maintained)."
   ]
  },
  {
   "cell_type": "code",
   "execution_count": 20,
   "id": "a1ae4dd5",
   "metadata": {
    "ExecuteTime": {
     "end_time": "2023-11-11T09:50:14.578508Z",
     "start_time": "2023-11-11T09:50:14.570804Z"
    }
   },
   "outputs": [
    {
     "name": "stdout",
     "output_type": "stream",
     "text": [
      "torch.Size([3, 784])\n"
     ]
    }
   ],
   "source": [
    "# flatten 2D 28x28 image into contiguous array of 784 pixel values\n",
    "flatten = nn.Flatten()\n",
    "flat_image = flatten(input_image)\n",
    "print(flat_image.size())"
   ]
  },
  {
   "cell_type": "code",
   "execution_count": 21,
   "id": "b3f89e42",
   "metadata": {
    "ExecuteTime": {
     "end_time": "2023-11-11T09:50:18.790932Z",
     "start_time": "2023-11-11T09:50:18.783899Z"
    },
    "scrolled": true
   },
   "outputs": [
    {
     "data": {
      "text/plain": [
       "tensor([[0.8513, 0.1169, 0.4704,  ..., 0.8231, 0.1939, 0.1485],\n",
       "        [0.5758, 0.1419, 0.1909,  ..., 0.2079, 0.0981, 0.3570],\n",
       "        [0.2345, 0.2361, 0.5813,  ..., 0.5600, 0.5440, 0.2803]])"
      ]
     },
     "execution_count": 21,
     "metadata": {},
     "output_type": "execute_result"
    }
   ],
   "source": [
    "flat_image"
   ]
  },
  {
   "cell_type": "markdown",
   "id": "6d1fb91b",
   "metadata": {},
   "source": [
    "## linear layer\n",
    "The linear layer is a module that applies a linear transformation on the input using its stored weights and biases."
   ]
  },
  {
   "cell_type": "code",
   "execution_count": 22,
   "id": "0d483bd0",
   "metadata": {
    "ExecuteTime": {
     "end_time": "2023-11-11T09:52:09.959311Z",
     "start_time": "2023-11-11T09:52:09.947148Z"
    }
   },
   "outputs": [
    {
     "name": "stdout",
     "output_type": "stream",
     "text": [
      "torch.Size([3, 20])\n"
     ]
    }
   ],
   "source": [
    "layer1 = nn.Linear(in_features=28*28, out_features=20)\n",
    "hidden1 = layer1(flat_image)\n",
    "print(hidden1.size())"
   ]
  },
  {
   "cell_type": "markdown",
   "id": "0569e6b7",
   "metadata": {},
   "source": [
    "## non-linaer activations\n",
    "Non-linear activations are what create the complex mappings between the model’s inputs and outputs. They are applied after linear transformations to introduce nonlinearity, helping neural networks learn a wide variety of phenomena.\n",
    "\n",
    "In this model, we use nn.ReLU between our linear layers, but there’s other activations to introduce non-linearity in your model."
   ]
  },
  {
   "cell_type": "code",
   "execution_count": 23,
   "id": "64830010",
   "metadata": {
    "ExecuteTime": {
     "end_time": "2023-11-11T09:55:15.175713Z",
     "start_time": "2023-11-11T09:55:15.164334Z"
    }
   },
   "outputs": [
    {
     "name": "stdout",
     "output_type": "stream",
     "text": [
      "Before ReLU: tensor([[-0.6610,  0.2213,  0.0245,  0.0363, -0.4859,  0.1475,  0.2006,  0.2389,\n",
      "         -0.1188, -0.1754, -0.0811,  0.2538,  0.0329, -0.2780, -0.2036, -0.1023,\n",
      "          0.1225,  0.1819, -0.2147,  0.0673],\n",
      "        [-0.4142, -0.1515,  0.3553,  0.1988, -0.1518,  0.2213,  0.2136,  0.2233,\n",
      "         -0.0910, -0.2256, -0.2005,  0.0542,  0.2962, -0.1527, -0.1350, -0.1009,\n",
      "         -0.2146,  0.3726, -0.3030,  0.0891],\n",
      "        [-0.5265,  0.3565, -0.0217,  0.4389, -0.1567,  0.6723,  0.2558,  0.1465,\n",
      "         -0.1408, -0.0446, -0.1778,  0.1358,  0.4801, -0.3596, -0.3626,  0.1535,\n",
      "          0.2993,  0.4850, -0.0123, -0.0673]], grad_fn=<AddmmBackward0>)\n",
      "\n",
      "\n",
      "After ReLU: tensor([[0.0000, 0.2213, 0.0245, 0.0363, 0.0000, 0.1475, 0.2006, 0.2389, 0.0000,\n",
      "         0.0000, 0.0000, 0.2538, 0.0329, 0.0000, 0.0000, 0.0000, 0.1225, 0.1819,\n",
      "         0.0000, 0.0673],\n",
      "        [0.0000, 0.0000, 0.3553, 0.1988, 0.0000, 0.2213, 0.2136, 0.2233, 0.0000,\n",
      "         0.0000, 0.0000, 0.0542, 0.2962, 0.0000, 0.0000, 0.0000, 0.0000, 0.3726,\n",
      "         0.0000, 0.0891],\n",
      "        [0.0000, 0.3565, 0.0000, 0.4389, 0.0000, 0.6723, 0.2558, 0.1465, 0.0000,\n",
      "         0.0000, 0.0000, 0.1358, 0.4801, 0.0000, 0.0000, 0.1535, 0.2993, 0.4850,\n",
      "         0.0000, 0.0000]], grad_fn=<ReluBackward0>)\n"
     ]
    }
   ],
   "source": [
    "print(f\"Before ReLU: {hidden1}\\n\\n\")\n",
    "hidden1 = nn.ReLU()(hidden1)\n",
    "print(f\"After ReLU: {hidden1}\")"
   ]
  },
  {
   "cell_type": "markdown",
   "id": "5b5c8ac3",
   "metadata": {},
   "source": [
    "## Put them together: Sequential()\n",
    "nn.Sequential is an ordered container of modules. The data is passed through all the modules in the same order as defined. You can use sequential containers to put together a quick network like seq_modules.\n",
    "\n"
   ]
  },
  {
   "cell_type": "code",
   "execution_count": 27,
   "id": "aae0d9e3",
   "metadata": {
    "ExecuteTime": {
     "end_time": "2023-11-11T09:57:26.769665Z",
     "start_time": "2023-11-11T09:57:26.764733Z"
    }
   },
   "outputs": [],
   "source": [
    "seq_modules = nn.Sequential(\n",
    "    flatten,\n",
    "    layer1,\n",
    "    nn.ReLU(),\n",
    "    nn.Linear(20, 10)\n",
    ")\n",
    "\n",
    "input_image = torch.rand(3,28,28)\n",
    "logits = seq_modules(input_image)"
   ]
  },
  {
   "cell_type": "code",
   "execution_count": 29,
   "id": "204875b2",
   "metadata": {
    "ExecuteTime": {
     "end_time": "2023-11-11T09:57:30.631452Z",
     "start_time": "2023-11-11T09:57:30.622724Z"
    }
   },
   "outputs": [
    {
     "data": {
      "text/plain": [
       "tensor([[-0.1619, -0.1878, -0.3519, -0.0776,  0.0400,  0.0347, -0.0375,  0.4875,\n",
       "          0.2731,  0.0404],\n",
       "        [-0.0247, -0.1110, -0.4021, -0.1045,  0.0417, -0.0961, -0.1016,  0.2649,\n",
       "          0.1247,  0.0781],\n",
       "        [-0.1824, -0.2802, -0.2501,  0.0096, -0.1295, -0.0463, -0.1029,  0.4178,\n",
       "          0.1732, -0.0365]], grad_fn=<AddmmBackward0>)"
      ]
     },
     "execution_count": 29,
     "metadata": {},
     "output_type": "execute_result"
    }
   ],
   "source": [
    "logits"
   ]
  },
  {
   "cell_type": "markdown",
   "id": "26b4dee6",
   "metadata": {},
   "source": [
    "## Activation \n",
    "The last linear layer of the neural network returns logits - raw values in [-infty, infty] - which are passed to the nn.Softmax module. The logits are scaled to values [0, 1] representing the model’s predicted probabilities for each class. dim parameter indicates the dimension along which the values must sum to 1."
   ]
  },
  {
   "cell_type": "code",
   "execution_count": 30,
   "id": "d0dacd7f",
   "metadata": {
    "ExecuteTime": {
     "end_time": "2023-11-11T09:58:08.185328Z",
     "start_time": "2023-11-11T09:58:08.178734Z"
    }
   },
   "outputs": [],
   "source": [
    "softmax = nn.Softmax(dim=1)\n",
    "pred_probab = softmax(logits)"
   ]
  },
  {
   "cell_type": "code",
   "execution_count": 31,
   "id": "fd09ba11",
   "metadata": {
    "ExecuteTime": {
     "end_time": "2023-11-11T09:58:10.810760Z",
     "start_time": "2023-11-11T09:58:10.803946Z"
    }
   },
   "outputs": [
    {
     "data": {
      "text/plain": [
       "tensor([[0.0823, 0.0802, 0.0681, 0.0896, 0.1007, 0.1002, 0.0932, 0.1576, 0.1272,\n",
       "         0.1008],\n",
       "        [0.0994, 0.0912, 0.0682, 0.0918, 0.1063, 0.0926, 0.0921, 0.1328, 0.1155,\n",
       "         0.1102],\n",
       "        [0.0852, 0.0772, 0.0796, 0.1032, 0.0898, 0.0976, 0.0922, 0.1552, 0.1215,\n",
       "         0.0985]], grad_fn=<SoftmaxBackward0>)"
      ]
     },
     "execution_count": 31,
     "metadata": {},
     "output_type": "execute_result"
    }
   ],
   "source": [
    "pred_probab"
   ]
  },
  {
   "cell_type": "code",
   "execution_count": null,
   "id": "ca9337ae",
   "metadata": {},
   "outputs": [],
   "source": []
  },
  {
   "cell_type": "code",
   "execution_count": null,
   "id": "4c9384a6",
   "metadata": {},
   "outputs": [],
   "source": []
  },
  {
   "cell_type": "code",
   "execution_count": null,
   "id": "d1a32e7a",
   "metadata": {},
   "outputs": [],
   "source": []
  },
  {
   "cell_type": "markdown",
   "id": "7f913607",
   "metadata": {},
   "source": [
    "# Define the Class"
   ]
  },
  {
   "cell_type": "code",
   "execution_count": 3,
   "id": "feb550db",
   "metadata": {
    "ExecuteTime": {
     "end_time": "2023-11-11T09:41:38.286994Z",
     "start_time": "2023-11-11T09:41:38.271804Z"
    }
   },
   "outputs": [
    {
     "data": {
      "text/plain": [
       "Linear(in_features=784, out_features=512, bias=True)"
      ]
     },
     "execution_count": 3,
     "metadata": {},
     "output_type": "execute_result"
    }
   ],
   "source": [
    "nn.Linear(28*28, 512)"
   ]
  },
  {
   "cell_type": "code",
   "execution_count": 4,
   "id": "14b54934",
   "metadata": {
    "ExecuteTime": {
     "end_time": "2023-11-11T09:42:15.283224Z",
     "start_time": "2023-11-11T09:42:15.275154Z"
    }
   },
   "outputs": [],
   "source": [
    "class myNN(nn.Module):\n",
    "    def __init__(self):\n",
    "        super().__init__()\n",
    "        self.flatten = nn.Flatten()\n",
    "        self.linear_relu_stack = nn.Sequential(\n",
    "            \n",
    "            nn.Linear(28*28, 512),\n",
    "            nn.ReLU(),\n",
    "            nn.Linear(512, 512),\n",
    "            nn.ReLU(),\n",
    "            nn.Linear(512, 10),\n",
    "        )\n",
    "        \n",
    "    def forward(self, x):\n",
    "        x = self.flatten(x)\n",
    "        logits = self.linear_relu_stack(x)\n",
    "        return logits"
   ]
  },
  {
   "cell_type": "code",
   "execution_count": 6,
   "id": "f30c3a81",
   "metadata": {
    "ExecuteTime": {
     "end_time": "2023-11-11T09:42:45.207254Z",
     "start_time": "2023-11-11T09:42:45.178889Z"
    }
   },
   "outputs": [],
   "source": [
    "model = myNN().to(device)"
   ]
  },
  {
   "cell_type": "code",
   "execution_count": 13,
   "id": "9bce605d",
   "metadata": {
    "ExecuteTime": {
     "end_time": "2023-11-11T09:43:28.192105Z",
     "start_time": "2023-11-11T09:43:28.186551Z"
    }
   },
   "outputs": [
    {
     "name": "stdout",
     "output_type": "stream",
     "text": [
      "myNN(\n",
      "  (flatten): Flatten(start_dim=1, end_dim=-1)\n",
      "  (linear_relu_stack): Sequential(\n",
      "    (0): Linear(in_features=784, out_features=512, bias=True)\n",
      "    (1): ReLU()\n",
      "    (2): Linear(in_features=512, out_features=512, bias=True)\n",
      "    (3): ReLU()\n",
      "    (4): Linear(in_features=512, out_features=10, bias=True)\n",
      "  )\n",
      ")\n"
     ]
    }
   ],
   "source": [
    "print(model)"
   ]
  },
  {
   "cell_type": "code",
   "execution_count": 33,
   "id": "9f9631b9",
   "metadata": {
    "ExecuteTime": {
     "end_time": "2023-11-11T09:59:03.279094Z",
     "start_time": "2023-11-11T09:59:03.223515Z"
    }
   },
   "outputs": [
    {
     "name": "stdout",
     "output_type": "stream",
     "text": [
      "Model structure: myNN(\n",
      "  (flatten): Flatten(start_dim=1, end_dim=-1)\n",
      "  (linear_relu_stack): Sequential(\n",
      "    (0): Linear(in_features=784, out_features=512, bias=True)\n",
      "    (1): ReLU()\n",
      "    (2): Linear(in_features=512, out_features=512, bias=True)\n",
      "    (3): ReLU()\n",
      "    (4): Linear(in_features=512, out_features=10, bias=True)\n",
      "  )\n",
      ")\n",
      "\n",
      "\n",
      "Layer: linear_relu_stack.0.weight | Size: torch.Size([512, 784]) | Values : tensor([[ 0.0068,  0.0331,  0.0154,  ..., -0.0154,  0.0130,  0.0239],\n",
      "        [ 0.0262, -0.0357, -0.0318,  ..., -0.0198, -0.0313, -0.0183]],\n",
      "       device='mps:0', grad_fn=<SliceBackward0>) \n",
      "\n",
      "Layer: linear_relu_stack.0.bias | Size: torch.Size([512]) | Values : tensor([ 0.0340, -0.0316], device='mps:0', grad_fn=<SliceBackward0>) \n",
      "\n",
      "Layer: linear_relu_stack.2.weight | Size: torch.Size([512, 512]) | Values : tensor([[-0.0068,  0.0153, -0.0075,  ..., -0.0140,  0.0009,  0.0360],\n",
      "        [-0.0276,  0.0431, -0.0213,  ...,  0.0338, -0.0298,  0.0389]],\n",
      "       device='mps:0', grad_fn=<SliceBackward0>) \n",
      "\n",
      "Layer: linear_relu_stack.2.bias | Size: torch.Size([512]) | Values : tensor([-0.0064, -0.0228], device='mps:0', grad_fn=<SliceBackward0>) \n",
      "\n",
      "Layer: linear_relu_stack.4.weight | Size: torch.Size([10, 512]) | Values : tensor([[ 0.0083,  0.0136,  0.0429,  ..., -0.0064, -0.0039,  0.0354],\n",
      "        [-0.0373, -0.0084, -0.0187,  ...,  0.0327,  0.0109, -0.0136]],\n",
      "       device='mps:0', grad_fn=<SliceBackward0>) \n",
      "\n",
      "Layer: linear_relu_stack.4.bias | Size: torch.Size([10]) | Values : tensor([-0.0357,  0.0126], device='mps:0', grad_fn=<SliceBackward0>) \n",
      "\n"
     ]
    }
   ],
   "source": [
    "print(f\"Model structure: {model}\\n\\n\")\n",
    "\n",
    "for name, param in model.named_parameters():\n",
    "    print(f\"Layer: {name} | Size: {param.size()} | Values : {param[:2]} \\n\")"
   ]
  },
  {
   "cell_type": "code",
   "execution_count": null,
   "id": "2be2c982",
   "metadata": {},
   "outputs": [],
   "source": []
  },
  {
   "cell_type": "markdown",
   "id": "7f0f01a983cccc76",
   "metadata": {},
   "source": [
    "# Vanilla CNN for CIFAR10\n",
    "- https://pytorch.org/tutorials/beginner/blitz/cifar10_tutorial.html"
   ]
  },
  {
   "cell_type": "code",
   "execution_count": 35,
   "id": "f34559ab",
   "metadata": {
    "ExecuteTime": {
     "end_time": "2023-11-11T10:33:18.285888Z",
     "start_time": "2023-11-11T10:33:18.282454Z"
    }
   },
   "outputs": [],
   "source": [
    "import torch.nn.functional as F\n",
    "import torchvision\n",
    "import torchvision.transforms as transforms"
   ]
  },
  {
   "cell_type": "code",
   "execution_count": 36,
   "id": "8438604f8fe0e4dc",
   "metadata": {
    "ExecuteTime": {
     "end_time": "2023-11-11T10:33:18.763163Z",
     "start_time": "2023-11-11T10:33:18.758566Z"
    }
   },
   "outputs": [],
   "source": [
    "transform = transforms.Compose(\n",
    "    [transforms.ToTensor(),\n",
    "     transforms.Normalize((0.5, 0.5, 0.5), (0.5, 0.5, 0.5))])\n",
    "\n",
    "batch_size = 4"
   ]
  },
  {
   "cell_type": "code",
   "execution_count": 37,
   "id": "349a40d2d7d434e1",
   "metadata": {
    "ExecuteTime": {
     "end_time": "2023-11-11T10:33:34.949526Z",
     "start_time": "2023-11-11T10:33:18.967130Z"
    }
   },
   "outputs": [
    {
     "name": "stdout",
     "output_type": "stream",
     "text": [
      "Downloading https://www.cs.toronto.edu/~kriz/cifar-10-python.tar.gz to ./data/cifar-10-python.tar.gz\n"
     ]
    },
    {
     "name": "stderr",
     "output_type": "stream",
     "text": [
      "100.0%\n"
     ]
    },
    {
     "name": "stdout",
     "output_type": "stream",
     "text": [
      "Extracting ./data/cifar-10-python.tar.gz to ./data\n",
      "Files already downloaded and verified\n"
     ]
    }
   ],
   "source": [
    "trainset = torchvision.datasets.CIFAR10(root='./data', train=True,\n",
    "                                        download=True, transform=transform)\n",
    "trainloader = torch.utils.data.DataLoader(trainset, batch_size=batch_size,\n",
    "                                          shuffle=True, num_workers=2)\n",
    "\n",
    "testset = torchvision.datasets.CIFAR10(root='./data', train=False,\n",
    "                                       download=True, transform=transform)\n",
    "testloader = torch.utils.data.DataLoader(testset, batch_size=batch_size,\n",
    "                                         shuffle=False, num_workers=2)\n",
    "\n",
    "classes = ('plane', 'car', 'bird', 'cat',\n",
    "           'deer', 'dog', 'frog', 'horse', 'ship', 'truck')"
   ]
  },
  {
   "cell_type": "code",
   "execution_count": 38,
   "id": "c322566f485063c0",
   "metadata": {
    "ExecuteTime": {
     "end_time": "2023-11-11T10:33:39.106258Z",
     "start_time": "2023-11-11T10:33:34.950763Z"
    }
   },
   "outputs": [
    {
     "data": {
      "image/png": "[encoded data removed]",
      "text/plain": [
       "<Figure size 640x480 with 1 Axes>"
      ]
     },
     "metadata": {},
     "output_type": "display_data"
    },
    {
     "name": "stdout",
     "output_type": "stream",
     "text": [
      "plane cat   ship  frog \n"
     ]
    }
   ],
   "source": [
    "import matplotlib.pyplot as plt\n",
    "import numpy as np\n",
    "\n",
    "# functions to show an image\n",
    "\n",
    "\n",
    "def imshow(img):\n",
    "    img = img / 2 + 0.5     # unnormalize\n",
    "    npimg = img.numpy()\n",
    "    plt.imshow(np.transpose(npimg, (1, 2, 0)))\n",
    "    plt.show()\n",
    "\n",
    "\n",
    "# get some random training images\n",
    "dataiter = iter(trainloader)\n",
    "images, labels = next(dataiter)\n",
    "\n",
    "# show images\n",
    "imshow(torchvision.utils.make_grid(images))\n",
    "# print labels\n",
    "print(' '.join(f'{classes[labels[j]]:5s}' for j in range(batch_size)))"
   ]
  },
  {
   "cell_type": "code",
   "execution_count": 39,
   "id": "2168693803a2fd5d",
   "metadata": {
    "ExecuteTime": {
     "end_time": "2023-11-11T10:33:39.111921Z",
     "start_time": "2023-11-11T10:33:39.107385Z"
    }
   },
   "outputs": [],
   "source": [
    "import torch.nn as nn\n",
    "import torch.nn.functional as F\n",
    "\n",
    "\n",
    "class Net(nn.Module):\n",
    "    def __init__(self):\n",
    "        super().__init__()\n",
    "        self.conv1 = nn.Conv2d(3, 6, 5)\n",
    "        self.pool = nn.MaxPool2d(2, 2)\n",
    "        self.conv2 = nn.Conv2d(6, 16, 5)\n",
    "        self.fc1 = nn.Linear(16 * 5 * 5, 120)\n",
    "        self.fc2 = nn.Linear(120, 84)\n",
    "        self.fc3 = nn.Linear(84, 10)\n",
    "\n",
    "    def forward(self, x):\n",
    "        x = self.pool(F.relu(self.conv1(x)))\n",
    "        x = self.pool(F.relu(self.conv2(x)))\n",
    "        x = torch.flatten(x, 1) # flatten all dimensions except batch\n",
    "        x = F.relu(self.fc1(x))\n",
    "        x = F.relu(self.fc2(x))\n",
    "        x = self.fc3(x)\n",
    "        return x\n",
    "\n",
    "\n",
    "net = Net()"
   ]
  },
  {
   "cell_type": "code",
   "execution_count": 40,
   "id": "8c616874b07b99b9",
   "metadata": {
    "ExecuteTime": {
     "end_time": "2023-11-11T10:33:39.115131Z",
     "start_time": "2023-11-11T10:33:39.113289Z"
    }
   },
   "outputs": [],
   "source": [
    "import torch.optim as optim\n",
    "\n",
    "criterion = nn.CrossEntropyLoss()\n",
    "optimizer = optim.SGD(net.parameters(), lr=0.001, momentum=0.9)"
   ]
  },
  {
   "cell_type": "code",
   "execution_count": 41,
   "id": "f7e9ad49ef830958",
   "metadata": {
    "ExecuteTime": {
     "end_time": "2023-11-11T10:34:35.483207Z",
     "start_time": "2023-11-11T10:33:39.116375Z"
    }
   },
   "outputs": [
    {
     "name": "stdout",
     "output_type": "stream",
     "text": [
      "[1,  2000] loss: 2.202\n",
      "[1,  4000] loss: 1.856\n",
      "[1,  6000] loss: 1.669\n",
      "[1,  8000] loss: 1.549\n",
      "[1, 10000] loss: 1.502\n",
      "[1, 12000] loss: 1.462\n",
      "[2,  2000] loss: 1.371\n",
      "[2,  4000] loss: 1.352\n",
      "[2,  6000] loss: 1.359\n",
      "[2,  8000] loss: 1.324\n",
      "[2, 10000] loss: 1.294\n",
      "[2, 12000] loss: 1.259\n",
      "Finished Training\n"
     ]
    }
   ],
   "source": [
    "for epoch in range(2):  # loop over the dataset multiple times\n",
    "\n",
    "    running_loss = 0.0\n",
    "    for i, data in enumerate(trainloader, 0):\n",
    "        # get the inputs; data is a list of [inputs, labels]\n",
    "        inputs, labels = data\n",
    "\n",
    "        # zero the parameter gradients\n",
    "        optimizer.zero_grad()\n",
    "\n",
    "        # forward + backward + optimize\n",
    "        outputs = net(inputs)\n",
    "        loss = criterion(outputs, labels)\n",
    "        loss.backward()\n",
    "        optimizer.step()\n",
    "\n",
    "        # print statistics\n",
    "        running_loss += loss.item()\n",
    "        if i % 2000 == 1999:    # print every 2000 mini-batches\n",
    "            print(f'[{epoch + 1}, {i + 1:5d}] loss: {running_loss / 2000:.3f}')\n",
    "            running_loss = 0.0\n",
    "\n",
    "print('Finished Training')"
   ]
  },
  {
   "cell_type": "code",
   "execution_count": 88,
   "id": "934dc6373f2a7970",
   "metadata": {
    "ExecuteTime": {
     "end_time": "2023-10-16T20:11:04.846517Z",
     "start_time": "2023-10-16T20:11:04.844819Z"
    }
   },
   "outputs": [],
   "source": [
    "PATH = './cifar_net.pth'\n",
    "torch.save(net.state_dict(), PATH)"
   ]
  },
  {
   "cell_type": "code",
   "execution_count": 89,
   "id": "11eeb61374ad9191",
   "metadata": {
    "ExecuteTime": {
     "end_time": "2023-10-16T20:11:16.903557Z",
     "start_time": "2023-10-16T20:11:04.848102Z"
    }
   },
   "outputs": [
    {
     "data": {
      "image/png": "[encoded data removed]",
      "text/plain": [
       "<Figure size 640x480 with 1 Axes>"
      ]
     },
     "metadata": {},
     "output_type": "display_data"
    },
    {
     "name": "stdout",
     "output_type": "stream",
     "text": [
      "GroundTruth:  cat   ship  ship  plane\n"
     ]
    }
   ],
   "source": [
    "dataiter = iter(testloader)\n",
    "images, labels = next(dataiter)\n",
    "\n",
    "# print images\n",
    "imshow(torchvision.utils.make_grid(images))\n",
    "print('GroundTruth: ', ' '.join(f'{classes[labels[j]]:5s}' for j in range(4)))"
   ]
  },
  {
   "cell_type": "code",
   "execution_count": 90,
   "id": "202d442240235a53",
   "metadata": {
    "ExecuteTime": {
     "end_time": "2023-10-16T20:12:08.756999Z",
     "start_time": "2023-10-16T20:12:08.729217Z"
    }
   },
   "outputs": [
    {
     "data": {
      "text/plain": [
       "<All keys matched successfully>"
      ]
     },
     "execution_count": 90,
     "metadata": {},
     "output_type": "execute_result"
    }
   ],
   "source": [
    "#load back in our saved model\n",
    "net = Net()\n",
    "net.load_state_dict(torch.load(PATH))"
   ]
  },
  {
   "cell_type": "code",
   "execution_count": 91,
   "id": "9b3af1d8239d703c",
   "metadata": {
    "ExecuteTime": {
     "end_time": "2023-10-16T20:12:11.812392Z",
     "start_time": "2023-10-16T20:12:11.797069Z"
    }
   },
   "outputs": [],
   "source": [
    "outputs = net(images)"
   ]
  },
  {
   "cell_type": "code",
   "execution_count": 92,
   "id": "cd0891106be4cb5e",
   "metadata": {
    "ExecuteTime": {
     "end_time": "2023-10-16T20:12:20.243549Z",
     "start_time": "2023-10-16T20:12:20.221235Z"
    }
   },
   "outputs": [
    {
     "name": "stdout",
     "output_type": "stream",
     "text": [
      "Predicted:  cat   ship  plane plane\n"
     ]
    }
   ],
   "source": [
    "_, predicted = torch.max(outputs, 1)\n",
    "\n",
    "print('Predicted: ', ' '.join(f'{classes[predicted[j]]:5s}'\n",
    "                              for j in range(4)))"
   ]
  },
  {
   "cell_type": "code",
   "execution_count": 93,
   "id": "260320dbeefb51ff",
   "metadata": {
    "ExecuteTime": {
     "end_time": "2023-10-16T20:12:54.089936Z",
     "start_time": "2023-10-16T20:12:40.446946Z"
    }
   },
   "outputs": [
    {
     "name": "stdout",
     "output_type": "stream",
     "text": [
      "Accuracy of the network on the 10000 test images: 53 %\n"
     ]
    }
   ],
   "source": [
    "correct = 0\n",
    "total = 0\n",
    "# since we're not training, we don't need to calculate the gradients for our outputs\n",
    "with torch.no_grad():\n",
    "    for data in testloader:\n",
    "        images, labels = data\n",
    "        # calculate outputs by running images through the network\n",
    "        outputs = net(images)\n",
    "        # the class with the highest energy is what we choose as prediction\n",
    "        _, predicted = torch.max(outputs.data, 1)\n",
    "        total += labels.size(0)\n",
    "        correct += (predicted == labels).sum().item()\n",
    "\n",
    "print(f'Accuracy of the network on the 10000 test images: {100 * correct // total} %')"
   ]
  },
  {
   "cell_type": "code",
   "execution_count": 94,
   "id": "338256e47983cd06",
   "metadata": {
    "ExecuteTime": {
     "end_time": "2023-10-16T20:13:10.757117Z",
     "start_time": "2023-10-16T20:12:57.104104Z"
    }
   },
   "outputs": [
    {
     "name": "stdout",
     "output_type": "stream",
     "text": [
      "Accuracy for class: plane is 61.8 %\n",
      "Accuracy for class: car   is 72.8 %\n",
      "Accuracy for class: bird  is 66.7 %\n",
      "Accuracy for class: cat   is 33.2 %\n",
      "Accuracy for class: deer  is 24.0 %\n",
      "Accuracy for class: dog   is 32.9 %\n",
      "Accuracy for class: frog  is 67.3 %\n",
      "Accuracy for class: horse is 53.2 %\n",
      "Accuracy for class: ship  is 66.9 %\n",
      "Accuracy for class: truck is 55.2 %\n"
     ]
    }
   ],
   "source": [
    "# prepare to count predictions for each class\n",
    "correct_pred = {classname: 0 for classname in classes}\n",
    "total_pred = {classname: 0 for classname in classes}\n",
    "\n",
    "# again no gradients needed\n",
    "with torch.no_grad():\n",
    "    for data in testloader:\n",
    "        images, labels = data\n",
    "        outputs = net(images)\n",
    "        _, predictions = torch.max(outputs, 1)\n",
    "        # collect the correct predictions for each class\n",
    "        for label, prediction in zip(labels, predictions):\n",
    "            if label == prediction:\n",
    "                correct_pred[classes[label]] += 1\n",
    "            total_pred[classes[label]] += 1\n",
    "\n",
    "\n",
    "# print accuracy for each class\n",
    "for classname, correct_count in correct_pred.items():\n",
    "    accuracy = 100 * float(correct_count) / total_pred[classname]\n",
    "    print(f'Accuracy for class: {classname:5s} is {accuracy:.1f} %')"
   ]
  },
  {
   "cell_type": "code",
   "execution_count": 95,
   "id": "cc4798fd803a8276",
   "metadata": {
    "ExecuteTime": {
     "end_time": "2023-10-16T20:13:10.777768Z",
     "start_time": "2023-10-16T20:13:10.763634Z"
    }
   },
   "outputs": [
    {
     "name": "stdout",
     "output_type": "stream",
     "text": [
      "cpu\n"
     ]
    }
   ],
   "source": [
    "device = torch.device('cuda:0' if torch.cuda.is_available() else 'cpu')\n",
    "\n",
    "# Assuming that we are on a CUDA machine, this should print a CUDA device:\n",
    "\n",
    "print(device)"
   ]
  },
  {
   "cell_type": "code",
   "execution_count": 96,
   "id": "5d176b111bfc177",
   "metadata": {
    "ExecuteTime": {
     "end_time": "2023-10-16T20:14:13.990778Z",
     "start_time": "2023-10-16T20:14:13.958721Z"
    }
   },
   "outputs": [
    {
     "data": {
      "text/plain": [
       "Net(\n",
       "  (conv1): Conv2d(3, 6, kernel_size=(5, 5), stride=(1, 1))\n",
       "  (pool): MaxPool2d(kernel_size=2, stride=2, padding=0, dilation=1, ceil_mode=False)\n",
       "  (conv2): Conv2d(6, 16, kernel_size=(5, 5), stride=(1, 1))\n",
       "  (fc1): Linear(in_features=400, out_features=120, bias=True)\n",
       "  (fc2): Linear(in_features=120, out_features=84, bias=True)\n",
       "  (fc3): Linear(in_features=84, out_features=10, bias=True)\n",
       ")"
      ]
     },
     "execution_count": 96,
     "metadata": {},
     "output_type": "execute_result"
    }
   ],
   "source": [
    "net.to(device)"
   ]
  },
  {
   "cell_type": "code",
   "execution_count": 97,
   "id": "d18018599571a408",
   "metadata": {
    "ExecuteTime": {
     "end_time": "2023-10-16T20:14:16.180181Z",
     "start_time": "2023-10-16T20:14:16.158867Z"
    }
   },
   "outputs": [],
   "source": [
    "inputs, labels = data[0].to(device), data[1].to(device)"
   ]
  },
  {
   "cell_type": "code",
   "execution_count": null,
   "id": "c2395bc9",
   "metadata": {},
   "outputs": [],
   "source": [
    "# Vanilla CNN for CIFAR10\n",
    "- https://pytorch.org/tutorials/beginner/blitz/cifar10_tutorial.html\n",
    "\n",
    "transform = transforms.Compose(\n",
    "    [transforms.ToTensor(),\n",
    "     transforms.Normalize((0.5, 0.5, 0.5), (0.5, 0.5, 0.5))])\n",
    "\n",
    "batch_size = 4\n",
    "\n",
    "trainset = torchvision.datasets.CIFAR10(root='./data', train=True,\n",
    "                                        download=True, transform=transform)\n",
    "trainloader = torch.utils.data.DataLoader(trainset, batch_size=batch_size,\n",
    "                                          shuffle=True, num_workers=2)\n",
    "\n",
    "testset = torchvision.datasets.CIFAR10(root='./data', train=False,\n",
    "                                       download=True, transform=transform)\n",
    "testloader = torch.utils.data.DataLoader(testset, batch_size=batch_size,\n",
    "                                         shuffle=False, num_workers=2)\n",
    "\n",
    "classes = ('plane', 'car', 'bird', 'cat',\n",
    "           'deer', 'dog', 'frog', 'horse', 'ship', 'truck')\n",
    "\n",
    "import matplotlib.pyplot as plt\n",
    "import numpy as np\n",
    "\n",
    "# functions to show an image\n",
    "\n",
    "\n",
    "def imshow(img):\n",
    "    img = img / 2 + 0.5     # unnormalize\n",
    "    npimg = img.numpy()\n",
    "    plt.imshow(np.transpose(npimg, (1, 2, 0)))\n",
    "    plt.show()\n",
    "\n",
    "\n",
    "# get some random training images\n",
    "dataiter = iter(trainloader)\n",
    "images, labels = next(dataiter)\n",
    "\n",
    "# show images\n",
    "imshow(torchvision.utils.make_grid(images))\n",
    "# print labels\n",
    "print(' '.join(f'{classes[labels[j]]:5s}' for j in range(batch_size)))\n",
    "\n",
    "import torch.nn as nn\n",
    "import torch.nn.functional as F\n",
    "\n",
    "\n",
    "class Net(nn.Module):\n",
    "    def __init__(self):\n",
    "        super().__init__()\n",
    "        self.conv1 = nn.Conv2d(3, 6, 5)\n",
    "        self.pool = nn.MaxPool2d(2, 2)\n",
    "        self.conv2 = nn.Conv2d(6, 16, 5)\n",
    "        self.fc1 = nn.Linear(16 * 5 * 5, 120)\n",
    "        self.fc2 = nn.Linear(120, 84)\n",
    "        self.fc3 = nn.Linear(84, 10)\n",
    "\n",
    "    def forward(self, x):\n",
    "        x = self.pool(F.relu(self.conv1(x)))\n",
    "        x = self.pool(F.relu(self.conv2(x)))\n",
    "        x = torch.flatten(x, 1) # flatten all dimensions except batch\n",
    "        x = F.relu(self.fc1(x))\n",
    "        x = F.relu(self.fc2(x))\n",
    "        x = self.fc3(x)\n",
    "        return x\n",
    "\n",
    "\n",
    "net = Net()\n",
    "\n",
    "import torch.optim as optim\n",
    "\n",
    "criterion = nn.CrossEntropyLoss()\n",
    "optimizer = optim.SGD(net.parameters(), lr=0.001, momentum=0.9)\n",
    "\n",
    "for epoch in range(2):  # loop over the dataset multiple times\n",
    "\n",
    "    running_loss = 0.0\n",
    "    for i, data in enumerate(trainloader, 0):\n",
    "        # get the inputs; data is a list of [inputs, labels]\n",
    "        inputs, labels = data\n",
    "\n",
    "        # zero the parameter gradients\n",
    "        optimizer.zero_grad()\n",
    "\n",
    "        # forward + backward + optimize\n",
    "        outputs = net(inputs)\n",
    "        loss = criterion(outputs, labels)\n",
    "        loss.backward()\n",
    "        optimizer.step()\n",
    "\n",
    "        # print statistics\n",
    "        running_loss += loss.item()\n",
    "        if i % 2000 == 1999:    # print every 2000 mini-batches\n",
    "            print(f'[{epoch + 1}, {i + 1:5d}] loss: {running_loss / 2000:.3f}')\n",
    "            running_loss = 0.0\n",
    "\n",
    "print('Finished Training')\n",
    "\n",
    "PATH = './cifar_net.pth'\n",
    "torch.save(net.state_dict(), PATH)\n",
    "\n",
    "dataiter = iter(testloader)\n",
    "images, labels = next(dataiter)\n",
    "\n",
    "# print images\n",
    "imshow(torchvision.utils.make_grid(images))\n",
    "print('GroundTruth: ', ' '.join(f'{classes[labels[j]]:5s}' for j in range(4)))\n",
    "\n",
    "#load back in our saved model\n",
    "net = Net()\n",
    "net.load_state_dict(torch.load(PATH))\n",
    "\n",
    "outputs = net(images)\n",
    "\n",
    "_, predicted = torch.max(outputs, 1)\n",
    "\n",
    "print('Predicted: ', ' '.join(f'{classes[predicted[j]]:5s}'\n",
    "                              for j in range(4)))\n",
    "\n",
    "correct = 0\n",
    "total = 0\n",
    "# since we're not training, we don't need to calculate the gradients for our outputs\n",
    "with torch.no_grad():\n",
    "    for data in testloader:\n",
    "        images, labels = data\n",
    "        # calculate outputs by running images through the network\n",
    "        outputs = net(images)\n",
    "        # the class with the highest energy is what we choose as prediction\n",
    "        _, predicted = torch.max(outputs.data, 1)\n",
    "        total += labels.size(0)\n",
    "        correct += (predicted == labels).sum().item()\n",
    "\n",
    "print(f'Accuracy of the network on the 10000 test images: {100 * correct // total} %')\n",
    "\n",
    "# prepare to count predictions for each class\n",
    "correct_pred = {classname: 0 for classname in classes}\n",
    "total_pred = {classname: 0 for classname in classes}\n",
    "\n",
    "# again no gradients needed\n",
    "with torch.no_grad():\n",
    "    for data in testloader:\n",
    "        images, labels = data\n",
    "        outputs = net(images)\n",
    "        _, predictions = torch.max(outputs, 1)\n",
    "        # collect the correct predictions for each class\n",
    "        for label, prediction in zip(labels, predictions):\n",
    "            if label == prediction:\n",
    "                correct_pred[classes[label]] += 1\n",
    "            total_pred[classes[label]] += 1\n",
    "\n",
    "\n",
    "# print accuracy for each class\n",
    "for classname, correct_count in correct_pred.items():\n",
    "    accuracy = 100 * float(correct_count) / total_pred[classname]\n",
    "    print(f'Accuracy for class: {classname:5s} is {accuracy:.1f} %')\n",
    "\n",
    "device = torch.device('cuda:0' if torch.cuda.is_available() else 'cpu')\n",
    "\n",
    "# Assuming that we are on a CUDA machine, this should print a CUDA device:\n",
    "\n",
    "print(device)\n",
    "\n",
    "net.to(device)\n",
    "\n",
    "inputs, labels = data[0].to(device), data[1].to(device)"
   ]
  }
 ],
 "metadata": {
  "kernelspec": {
   "display_name": "Python 3 (ipykernel)",
   "language": "python",
   "name": "python3"
  },
  "language_info": {
   "codemirror_mode": {
    "name": "ipython",
    "version": 3
   },
   "file_extension": ".py",
   "mimetype": "text/x-python",
   "name": "python",
   "nbconvert_exporter": "python",
   "pygments_lexer": "ipython3",
   "version": "3.8.18"
  },
  "toc": {
   "base_numbering": 1,
   "nav_menu": {},
   "number_sections": true,
   "sideBar": true,
   "skip_h1_title": false,
   "title_cell": "Table of Contents",
   "title_sidebar": "Contents",
   "toc_cell": false,
   "toc_position": {},
   "toc_section_display": true,
   "toc_window_display": false
  }
 },
 "nbformat": 4,
 "nbformat_minor": 5
}
