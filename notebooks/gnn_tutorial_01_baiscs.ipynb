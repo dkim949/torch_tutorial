{
 "cells": [
  {
   "cell_type": "markdown",
   "id": "ab374c4d-3ed6-4d32-96ef-5c2adb905578",
   "metadata": {},
   "source": [
    "# Cora Dataset\n",
    "- https://docs.dgl.ai/tutorials/blitz/1_introduction.html\n",
    "- Node: ML papers => Node Classfication with 7 categories\n",
    "- Edge: References => Link Prediction => eg. If A paper was referred by B"
   ]
  },
  {
   "cell_type": "code",
   "execution_count": 4,
   "id": "initial_id",
   "metadata": {
    "ExecuteTime": {
     "end_time": "2023-10-08T16:29:13.068878Z",
     "start_time": "2023-10-08T16:29:13.056583Z"
    }
   },
   "outputs": [],
   "source": [
    "import numpy as np                        \n",
    "import time\n",
    "import torch\n",
    "import torch.nn as nn\n",
    "import torch.nn.functional as F\n",
    "import dgl\n",
    "from dgl.data import CoraGraphDataset\n",
    "from sklearn.metrics import f1_score\n",
    "import dgl.function as fn"
   ]
  },
  {
   "cell_type": "code",
   "execution_count": 19,
   "id": "36a3d676-aac4-45c7-ba47-f79d313baf57",
   "metadata": {},
   "outputs": [],
   "source": [
    "from torch_geometric.utils import negative_sampling\n",
    "from torch_geometric.datasets import Planetoid\n",
    "import torch_geometric.transforms as T\n",
    "from torch_geometric.nn import GCNConv\n",
    "from torch_geometric.utils import train_test_split_edges\n",
    "\n",
    "# device = \"gpu\""
   ]
  },
  {
   "cell_type": "code",
   "execution_count": 21,
   "id": "b8d902c2-6144-4071-9595-0774796f9ee0",
   "metadata": {},
   "outputs": [],
   "source": [
    "# dataset = dgl.data.CoraGraphDataset()\n",
    "# print(f\"Number of categories: {dataset.num_classes}\")\n",
    "# using one single node \n",
    "# g = dataset[0]"
   ]
  },
  {
   "cell_type": "code",
   "execution_count": 25,
   "id": "d978ca5d-5f0d-4483-9169-fe942b1997e4",
   "metadata": {},
   "outputs": [
    {
     "name": "stderr",
     "output_type": "stream",
     "text": [
      "Downloading https://github.com/kimiyoung/planetoid/raw/master/data/ind.cora.x\n",
      "Downloading https://github.com/kimiyoung/planetoid/raw/master/data/ind.cora.tx\n",
      "Downloading https://github.com/kimiyoung/planetoid/raw/master/data/ind.cora.allx\n",
      "Downloading https://github.com/kimiyoung/planetoid/raw/master/data/ind.cora.y\n",
      "Downloading https://github.com/kimiyoung/planetoid/raw/master/data/ind.cora.ty\n",
      "Downloading https://github.com/kimiyoung/planetoid/raw/master/data/ind.cora.ally\n",
      "Downloading https://github.com/kimiyoung/planetoid/raw/master/data/ind.cora.graph\n",
      "Downloading https://github.com/kimiyoung/planetoid/raw/master/data/ind.cora.test.index\n"
     ]
    },
    {
     "name": "stdout",
     "output_type": "stream",
     "text": [
      "Data(x=[2708, 1433], edge_index=[2, 10556], y=[2708], train_mask=[2708], val_mask=[2708], test_mask=[2708])\n"
     ]
    },
    {
     "name": "stderr",
     "output_type": "stream",
     "text": [
      "Processing...\n",
      "Done!\n",
      "/Users/donginkim/anaconda3/envs/cs7643-a2/lib/python3.9/site-packages/torch_geometric/data/in_memory_dataset.py:157: UserWarning: It is not recommended to directly access the internal storage format `data` of an 'InMemoryDataset'. If you are absolutely certain what you are doing, access the internal storage via `InMemoryDataset._data` instead to suppress this warning. Alternatively, you can access stacked individual attributes of every graph via `dataset.{attr_name}`.\n",
      "  warnings.warn(msg)\n"
     ]
    }
   ],
   "source": [
    "import os.path as osp\n",
    "\n",
    "# load the Cora dataset\n",
    "dataset = 'Cora'\n",
    "path = osp.join('../', 'data', dataset)\n",
    "dataset = Planetoid(path, dataset, transform=T.NormalizeFeatures())\n",
    "data = dataset[0]\n",
    "print(dataset.data)"
   ]
  },
  {
   "cell_type": "code",
   "execution_count": 26,
   "id": "5fb87a5a-a915-453d-98a6-1f2a1d42e6ee",
   "metadata": {},
   "outputs": [
    {
     "name": "stdout",
     "output_type": "stream",
     "text": [
      "Data(x=[2708, 1433], val_pos_edge_index=[2, 263], test_pos_edge_index=[2, 527], train_pos_edge_index=[2, 8976], train_neg_adj_mask=[2708, 2708], val_neg_edge_index=[2, 263], test_neg_edge_index=[2, 527])\n"
     ]
    },
    {
     "name": "stderr",
     "output_type": "stream",
     "text": [
      "/Users/donginkim/anaconda3/envs/cs7643-a2/lib/python3.9/site-packages/torch_geometric/deprecation.py:22: UserWarning: 'train_test_split_edges' is deprecated, use 'transforms.RandomLinkSplit' instead\n",
      "  warnings.warn(out)\n"
     ]
    }
   ],
   "source": [
    "\n",
    "# Data(x=[2708, 1433], edge_index=[2, 10556], y=[2708], train_mask=[2708], val_mask=[2708], test_mask=[2708])\n",
    "\n",
    "# use train_test_split_edges to create neg and positive edges\n",
    "data.train_mask = data.val_mask = data.test_mask = data.y = None\n",
    "data = train_test_split_edges(data)\n",
    "print(data)\n",
    "\n",
    "# Data(x=[2708, 1433], val_pos_edge_index=[2, 263], test_pos_edge_index=[2, 527], train_pos_edge_index=[2, 8976], train_neg_adj_mask=[2708, 2708], val_neg_edge_index=[2, 263], test_neg_edge_index=[2, 527])"
   ]
  },
  {
   "cell_type": "code",
   "execution_count": 27,
   "id": "4eeb8747-ec12-4d3a-812a-1ee184780763",
   "metadata": {},
   "outputs": [],
   "source": [
    "class Net(torch.nn.Module):\n",
    "    def __init__(self):\n",
    "        super(Net, self).__init__()\n",
    "        self.conv1 = GCNConv(dataset.num_features, 128)\n",
    "        self.conv2 = GCNConv(128, 64)\n",
    "\n",
    "    def encode(self, x, edge_index):\n",
    "        x = self.conv1(x, edge_index) # convolution 1\n",
    "        x = x.relu()\n",
    "        return self.conv2(x, edge_index) # convolution 2\n",
    "\n",
    "    def decode(self, z, pos_edge_index, neg_edge_index): # only pos and neg edges\n",
    "        edge_index = torch.cat([pos_edge_index, neg_edge_index], dim=-1) # concatenate pos and neg edges\n",
    "        logits = (z[edge_index[0]] * z[edge_index[1]]).sum(dim=-1)  # dot product \n",
    "        return logits\n",
    "\n",
    "    def decode_all(self, z): \n",
    "        prob_adj = z @ z.t() # get adj NxN\n",
    "        return (prob_adj > 0).nonzero(as_tuple=False).t() # get predicted edge_list\n"
   ]
  },
  {
   "cell_type": "code",
   "execution_count": 28,
   "id": "cc1f4fb9-4259-4980-8c85-f4d8b3602074",
   "metadata": {},
   "outputs": [],
   "source": [
    "def get_link_logits(model, x , edge_index , neg_edge_index) :\n",
    "    z = model.encode(x , edge_index) #encode\n",
    "    link_logits = model.decode(z, edge_index, neg_edge_index) # decode\n",
    "    return link_logits\n",
    "    \n",
    "def get_link_labels(pos_edge_index, neg_edge_index):\n",
    "    # returns a tensor:\n",
    "    # [1,1,1,1,...,0,0,0,0,0,..] with the number of ones is equel to the lenght of pos_edge_index\n",
    "    # and the number of zeros is equal to the length of neg_edge_index\n",
    "    E = pos_edge_index.size(1) + neg_edge_index.size(1)\n",
    "    link_labels = torch.zeros(E, dtype=torch.float, device=device)\n",
    "    link_labels[:pos_edge_index.size(1)] = 1.\n",
    "    return link_labels"
   ]
  },
  {
   "cell_type": "code",
   "execution_count": 31,
   "id": "8b4c261d-1097-44ca-86aa-4c839896e098",
   "metadata": {},
   "outputs": [
    {
     "name": "stdout",
     "output_type": "stream",
     "text": [
      "torch.Size([2, 8976])\n",
      "torch.Size([2, 8976])\n"
     ]
    }
   ],
   "source": [
    "neg_edge_index = negative_sampling(\n",
    "        edge_index=data.train_pos_edge_index, #positive edges\n",
    "        num_nodes=data.num_nodes, # number of nodes\n",
    "        num_neg_samples=data.train_pos_edge_index.size(1)) # number of neg_sample equal to number of pos_edges\n",
    "print(data.train_pos_edge_index.shape) # torch.Size([2, 8976])\n",
    "print(neg_edge_index.shape) # torch.Size([2, 8976])"
   ]
  },
  {
   "cell_type": "code",
   "execution_count": 29,
   "id": "fbe97198-d373-49f1-9a9b-338cd74c2ea0",
   "metadata": {},
   "outputs": [
    {
     "name": "stdout",
     "output_type": "stream",
     "text": [
      "torch.Size([2, 8976])\n",
      "torch.Size([2, 8976])\n"
     ]
    },
    {
     "ename": "NameError",
     "evalue": "name 'model' is not defined",
     "output_type": "error",
     "traceback": [
      "\u001b[0;31m---------------------------------------------------------------------------\u001b[0m",
      "\u001b[0;31mNameError\u001b[0m                                 Traceback (most recent call last)",
      "Cell \u001b[0;32mIn[29], line 8\u001b[0m\n\u001b[1;32m      6\u001b[0m \u001b[38;5;28mprint\u001b[39m(data\u001b[38;5;241m.\u001b[39mtrain_pos_edge_index\u001b[38;5;241m.\u001b[39mshape) \u001b[38;5;66;03m# torch.Size([2, 8976])\u001b[39;00m\n\u001b[1;32m      7\u001b[0m \u001b[38;5;28mprint\u001b[39m(neg_edge_index\u001b[38;5;241m.\u001b[39mshape) \u001b[38;5;66;03m# torch.Size([2, 8976])\u001b[39;00m\n\u001b[0;32m----> 8\u001b[0m link_logits \u001b[38;5;241m=\u001b[39m get_link_logits(\u001b[43mmodel\u001b[49m , data\u001b[38;5;241m.\u001b[39mx , data\u001b[38;5;241m.\u001b[39mtrain_pos_edge_index,neg_edge_index)\n\u001b[1;32m      9\u001b[0m \u001b[38;5;28mprint\u001b[39m(link_logits\u001b[38;5;241m.\u001b[39msize()) \u001b[38;5;66;03m# torch.Size([17952])\u001b[39;00m\n\u001b[1;32m     11\u001b[0m link_logits\u001b[38;5;241m.\u001b[39msigmoid()\n",
      "\u001b[0;31mNameError\u001b[0m: name 'model' is not defined"
     ]
    }
   ],
   "source": [
    "link_logits = get_link_logits(model, data.x , data.train_pos_edge_index,neg_edge_index)\n",
    "print(link_logits.size()) # torch.Size([17952])\n",
    "\n",
    "link_logits.sigmoid()"
   ]
  },
  {
   "cell_type": "markdown",
   "id": "230ab23e-5ecb-4acb-80a4-565a66bf4379",
   "metadata": {},
   "source": [
    "# # of params in AlexNet\n",
    "- input = 0 \n",
    "- weight of conv1(55*55*96) = \n",
    "- bias of conv1(55*55*96) = 96\n"
   ]
  },
  {
   "cell_type": "code",
   "execution_count": 49,
   "id": "1117d1bc-5f2b-4196-b49e-e14ebb0da3cd",
   "metadata": {},
   "outputs": [
    {
     "data": {
      "text/plain": [
       "150528"
      ]
     },
     "execution_count": 49,
     "metadata": {},
     "output_type": "execute_result"
    }
   ],
   "source": [
    "224 * 224 * 3\n"
   ]
  },
  {
   "cell_type": "code",
   "execution_count": 45,
   "id": "1d6b7383-63d9-4e73-8416-f6450969f886",
   "metadata": {},
   "outputs": [
    {
     "data": {
      "text/plain": [
       "864"
      ]
     },
     "execution_count": 45,
     "metadata": {},
     "output_type": "execute_result"
    }
   ],
   "source": [
    "3*3*3*32"
   ]
  },
  {
   "cell_type": "code",
   "execution_count": 50,
   "id": "f75adb67-63c6-49bc-b6e9-e33d8c0660c9",
   "metadata": {
    "scrolled": true
   },
   "outputs": [
    {
     "data": {
      "text/plain": [
       "1605632"
      ]
     },
     "execution_count": 50,
     "metadata": {},
     "output_type": "execute_result"
    }
   ],
   "source": [
    "224*224*32"
   ]
  },
  {
   "cell_type": "code",
   "execution_count": 46,
   "id": "a58ad03a-3bdf-4ed1-a398-2e3022ada7b1",
   "metadata": {},
   "outputs": [
    {
     "data": {
      "text/plain": [
       "401408"
      ]
     },
     "execution_count": 46,
     "metadata": {},
     "output_type": "execute_result"
    }
   ],
   "source": [
    "112*112*32"
   ]
  },
  {
   "cell_type": "code",
   "execution_count": 47,
   "id": "c352c52a-0bdd-4b80-bfd0-6f9495eff63f",
   "metadata": {},
   "outputs": [
    {
     "data": {
      "text/plain": [
       "9"
      ]
     },
     "execution_count": 47,
     "metadata": {},
     "output_type": "execute_result"
    }
   ],
   "source": [
    "9"
   ]
  },
  {
   "cell_type": "code",
   "execution_count": 53,
   "id": "a09c3932-18de-4484-a655-a0c9206dde82",
   "metadata": {},
   "outputs": [
    {
     "data": {
      "text/plain": [
       "2158482"
      ]
     },
     "execution_count": 53,
     "metadata": {},
     "output_type": "execute_result"
    }
   ],
   "source": [
    "(3*3*3*32) + (224*224*32) + (112*112*32) + (9)"
   ]
  },
  {
   "cell_type": "code",
   "execution_count": 38,
   "id": "cbb06d76-df15-451e-9ea8-093f5b8d71eb",
   "metadata": {},
   "outputs": [
    {
     "data": {
      "text/plain": [
       "401408"
      ]
     },
     "execution_count": 38,
     "metadata": {},
     "output_type": "execute_result"
    }
   ],
   "source": [
    "112*112*32"
   ]
  },
  {
   "cell_type": "code",
   "execution_count": 55,
   "id": "3b1b2a97-ee60-467a-9695-550280ab91e8",
   "metadata": {},
   "outputs": [
    {
     "data": {
      "text/plain": [
       "2157577"
      ]
     },
     "execution_count": 55,
     "metadata": {},
     "output_type": "execute_result"
    }
   ],
   "source": [
    "# memory, wo bias \n",
    "(224*224*3) + (224*224*32) + (112*112*32) + (9)"
   ]
  },
  {
   "cell_type": "code",
   "execution_count": null,
   "id": "12ab8c3f-e884-4068-9ed0-ac9a164ecae5",
   "metadata": {},
   "outputs": [],
   "source": []
  }
 ],
 "metadata": {
  "kernelspec": {
   "display_name": "Python 3 (ipykernel)",
   "language": "python",
   "name": "python3"
  },
  "language_info": {
   "codemirror_mode": {
    "name": "ipython",
    "version": 3
   },
   "file_extension": ".py",
   "mimetype": "text/x-python",
   "name": "python",
   "nbconvert_exporter": "python",
   "pygments_lexer": "ipython3",
   "version": "3.8.17"
  },
  "toc": {
   "base_numbering": 1,
   "nav_menu": {},
   "number_sections": true,
   "sideBar": true,
   "skip_h1_title": false,
   "title_cell": "Table of Contents",
   "title_sidebar": "Contents",
   "toc_cell": false,
   "toc_position": {},
   "toc_section_display": true,
   "toc_window_display": false
  }
 },
 "nbformat": 4,
 "nbformat_minor": 5
}
