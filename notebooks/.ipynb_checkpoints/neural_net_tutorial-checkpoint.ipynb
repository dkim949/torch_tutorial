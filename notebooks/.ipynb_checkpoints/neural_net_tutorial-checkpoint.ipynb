{
 "cells": [
  {
   "cell_type": "code",
   "execution_count": 4,
   "id": "b9f021a4-493f-450e-8381-36457fdd6e9b",
   "metadata": {},
   "outputs": [],
   "source": [
    "import numpy as np\n",
    "import pandas as pd\n",
    "# from sklearn import datasets"
   ]
  },
  {
   "cell_type": "markdown",
   "id": "4aaf7635-3e61-468a-b57f-679049d16aa0",
   "metadata": {},
   "source": [
    "# Dense Neural Networks with 2 Hidden Layers"
   ]
  },
  {
   "cell_type": "code",
   "execution_count": 5,
   "id": "3a66e652-0e3e-4b57-8c0a-f4db896d1930",
   "metadata": {},
   "outputs": [],
   "source": [
    "# input data with batch_size=5 & n_features=2\n",
    "# 5x2 input matrix\n",
    "inputs = np.array([\n",
    "          [7, 99],\n",
    "          [4, 82],\n",
    "          [8, 51],\n",
    "          [5, 52],\n",
    "          [7, 75]\n",
    "         ])"
   ]
  },
  {
   "cell_type": "code",
   "execution_count": 7,
   "id": "0a284105-49e7-4a8e-b895-ac7c9488bbfc",
   "metadata": {},
   "outputs": [
    {
     "data": {
      "text/plain": [
       "array([[94.6, 85.7, 74.5],\n",
       "       [77.8, 70.6, 60.8],\n",
       "       [51.9, 47.8, 41.5],\n",
       "       [51.3, 47.1, 40.4],\n",
       "       [73. , 66.5, 57.7]])"
      ]
     },
     "execution_count": 7,
     "metadata": {},
     "output_type": "execute_result"
    }
   ],
   "source": [
    "# feedforward\n",
    "\n",
    "# first layer with 3 neurons\n",
    "# n_neurons x n_inputs(=n_feature)\n",
    "# 3x2 weight matrix\n",
    "W1 = np.array([\n",
    "        [0.5, 0.9], \n",
    "        [0.5, 0.8],\n",
    "        [0.6, 0.7]\n",
    "        ])\n",
    "\n",
    "# 1x3 bias matrix\n",
    "# 1xn_neurons\n",
    "b1 = np.array([2, 3, 1])\n",
    "\n",
    "# output of the first layer\n",
    "output1 = np.dot(inputs, W1.T) + b1  #weighted sum \n",
    "\n",
    "# second layer with 2 neurons\n",
    "# 2x3 weight matrix\n",
    "W2 = np.array([[0.1, 0.14, 0.5], \n",
    "               [0.5, 0.12, 0.33]])\n",
    "\n",
    "# 1x2 bias matrix\n",
    "b2 = np.array([1, 1])\n",
    "\n",
    "# output of the second layer\n",
    "output2 = np.dot(output1, W2.T) + b2\n",
    "\n",
    "output2"
   ]
  },
  {
   "cell_type": "code",
   "execution_count": null,
   "id": "9d45db5c-10c1-4a6a-9765-a2b37f32aad0",
   "metadata": {},
   "outputs": [],
   "source": [
    "target = np.array([91,65,45,36,66])"
   ]
  },
  {
   "cell_type": "code",
   "execution_count": null,
   "id": "260eac54-25e4-43e8-8785-aae0e4537592",
   "metadata": {},
   "outputs": [],
   "source": []
  },
  {
   "cell_type": "code",
   "execution_count": 31,
   "id": "8547cc2e-a269-473d-8d1f-7a5a75d76290",
   "metadata": {},
   "outputs": [],
   "source": [
    "# define activation functions\n",
    "import numpy as np \n",
    "\n",
    "def sigmoid(x):\n",
    "    return 1 / (1+ np.exp(-x))\n",
    "\n",
    "def relu(x):\n",
    "    return np.maximum(0, x)\n",
    "\n",
    "def identity_function(x):\n",
    "    return x\n",
    "\n",
    "def softmax(a):\n",
    "    c = np.max(a)\n",
    "    exp_a = np.exp(a-c)  #prevent overflow\n",
    "    sum_exp_a = np.sum(exp_a)\n",
    "    y = exp_a / sum_exp_a\n",
    "    return y\n",
    "\n",
    "# define loss functions\n",
    "def cross_entrophy_error(y, t):\n",
    "    delta = 1e-7  #prevent underflow\n",
    "    return -np.sum(t * np.log(y+delta))"
   ]
  },
  {
   "cell_type": "code",
   "execution_count": 27,
   "id": "602daced-18e8-4be6-876a-cb0ee04be1fe",
   "metadata": {},
   "outputs": [],
   "source": [
    "def init_network():\n",
    "    network = {}\n",
    "    network['W1'] = np.array([[0.1,0.3,0.5],[0.2,0.4,0.6]])  #2x3\n",
    "    network['b1'] = np.array([0.1,0.2,0.3])  \n",
    "    network['W2'] = np.array([[0.1,0.4],[0.2,0.5],[0.3,0.6]])  #3x2\n",
    "    network['b2'] = np.array([0.1,0.2])\n",
    "    network['W3'] = np.array([[0.1,0.3],[0.2,0.4]])  #2x2\n",
    "    network['b3'] = np.array([0.1,0.2])\n",
    "    \n",
    "    return network\n",
    "\n",
    "def forward(network, x):\n",
    "    W1, W2, W3 = network['W1'], network['W2'], network['W3']\n",
    "    b1, b2, b3 = network['b1'], network['b2'], network['b3']\n",
    "\n",
    "    a1 = np.dot(x, W1) + b1\n",
    "    z1 = sigmoid(a1)\n",
    "    \n",
    "    a2 = np.dot(z1, W2) + b2\n",
    "    y = softmax(a2)\n",
    "    \n",
    "    # a3 = np.dot(z2, W3) + b3\n",
    "    # z3 = sigmoid(a3)    \n",
    "    \n",
    "    return y\n",
    "\n",
    "def loss(x, t):\n",
    "    y = forward(x)\n",
    "    return cross_entropy_error"
   ]
  },
  {
   "cell_type": "code",
   "execution_count": 28,
   "id": "ea8c5a59-daea-4173-a244-7e160263cdf7",
   "metadata": {},
   "outputs": [
    {
     "data": {
      "text/plain": [
       "{'W1': array([[0.1, 0.3, 0.5],\n",
       "        [0.2, 0.4, 0.6]]),\n",
       " 'b1': array([0.1, 0.2, 0.3]),\n",
       " 'W2': array([[0.1, 0.4],\n",
       "        [0.2, 0.5],\n",
       "        [0.3, 0.6]]),\n",
       " 'b2': array([0.1, 0.2]),\n",
       " 'W3': array([[0.1, 0.3],\n",
       "        [0.2, 0.4]]),\n",
       " 'b3': array([0.1, 0.2])}"
      ]
     },
     "execution_count": 28,
     "metadata": {},
     "output_type": "execute_result"
    }
   ],
   "source": [
    "network = init_network()\n",
    "network"
   ]
  },
  {
   "cell_type": "code",
   "execution_count": 29,
   "id": "7a5426b0-eb83-4117-ba58-4302696c27a5",
   "metadata": {},
   "outputs": [
    {
     "name": "stdout",
     "output_type": "stream",
     "text": [
      "[0.3 0.7 1.1] (3,)\n",
      "(2,)\n",
      "(2,)\n"
     ]
    }
   ],
   "source": [
    "x = np.array([1.0, 0.5])  #1x2\n",
    "y = forward(network, x)"
   ]
  },
  {
   "cell_type": "code",
   "execution_count": 26,
   "id": "f1724560-28b3-4ef6-a771-3d9af24c2099",
   "metadata": {},
   "outputs": [
    {
     "data": {
      "text/plain": [
       "array([0.57855079, 0.66736228])"
      ]
     },
     "execution_count": 26,
     "metadata": {},
     "output_type": "execute_result"
    }
   ],
   "source": [
    "y"
   ]
  },
  {
   "cell_type": "code",
   "execution_count": null,
   "id": "c6b8a2ae-2673-4169-93ff-7e488eda6966",
   "metadata": {},
   "outputs": [],
   "source": [
    "# backpropagation using the chain rule\n",
    "\n"
   ]
  },
  {
   "cell_type": "code",
   "execution_count": 14,
   "id": "cfdac98e-d217-4fce-bb2d-ca7ee1520727",
   "metadata": {},
   "outputs": [],
   "source": []
  },
  {
   "cell_type": "markdown",
   "id": "408039bb-d3b5-4cfe-a4db-e7f59f49c6ce",
   "metadata": {},
   "source": [
    "# LEARNING PYTORCH WITH EXAMPLES\n",
    "- https://pytorch.org/tutorials/beginner/pytorch_with_examples.html"
   ]
  },
  {
   "cell_type": "code",
   "execution_count": 1,
   "id": "7b7d2d18-83bd-4b66-91b1-ef523fc06497",
   "metadata": {},
   "outputs": [],
   "source": [
    "import os\n",
    "import math\n",
    "import torch\n",
    "from torch import nn\n",
    "from torch.utils.data import DataLoader\n",
    "from torchvision import datasets\n",
    "from torchvision.transforms import ToTensor"
   ]
  },
  {
   "cell_type": "code",
   "execution_count": 2,
   "id": "7e3e53c5-00d1-4e67-99a1-4f0fd974b90f",
   "metadata": {},
   "outputs": [
    {
     "name": "stdout",
     "output_type": "stream",
     "text": [
      "Using cuda device\n"
     ]
    }
   ],
   "source": [
    "device = (\n",
    "    \"cuda\"\n",
    "    if torch.cuda.is_available()\n",
    "    else \"mps\"\n",
    "    if torch.backends.mps.is_available()\n",
    "    else \"cpu\"\n",
    ")\n",
    "print(f\"Using {device} device\")"
   ]
  },
  {
   "cell_type": "code",
   "execution_count": 3,
   "id": "d443f33d-d09d-444a-bc15-6a5b586a782a",
   "metadata": {},
   "outputs": [
    {
     "data": {
      "text/plain": [
       "'NVIDIA GeForce RTX 4070 Ti'"
      ]
     },
     "execution_count": 3,
     "metadata": {},
     "output_type": "execute_result"
    }
   ],
   "source": [
    "# torch.cuda.device_count()\n",
    "torch.cuda.get_device_name(0)"
   ]
  },
  {
   "cell_type": "code",
   "execution_count": null,
   "id": "2bb6d49c-c5f3-4117-8399-c6321acd1381",
   "metadata": {},
   "outputs": [],
   "source": []
  }
 ],
 "metadata": {
  "kernelspec": {
   "display_name": "Python 3 (ipykernel)",
   "language": "python",
   "name": "python3"
  },
  "language_info": {
   "codemirror_mode": {
    "name": "ipython",
    "version": 3
   },
   "file_extension": ".py",
   "mimetype": "text/x-python",
   "name": "python",
   "nbconvert_exporter": "python",
   "pygments_lexer": "ipython3",
   "version": "3.9.18"
  }
 },
 "nbformat": 4,
 "nbformat_minor": 5
}
